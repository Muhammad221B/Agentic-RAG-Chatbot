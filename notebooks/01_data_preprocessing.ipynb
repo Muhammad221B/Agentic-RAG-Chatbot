{
 "cells": [
  {
   "cell_type": "code",
   "execution_count": 1,
   "id": "4eb7dff9",
   "metadata": {},
   "outputs": [
    {
     "data": {
      "application/vnd.microsoft.datawrangler.viewer.v0+json": {
       "columns": [
        {
         "name": "index",
         "rawType": "int64",
         "type": "integer"
        },
        {
         "name": "Review",
         "rawType": "object",
         "type": "string"
        },
        {
         "name": "Rating",
         "rawType": "int64",
         "type": "integer"
        }
       ],
       "conversionMethod": "pd.DataFrame",
       "ref": "051e1bf8-d655-4492-a938-a4d9d06c3e91",
       "rows": [
        [
         "0",
         "nice hotel expensive parking got good deal stay hotel anniversary, arrived late evening took advice previous reviews did valet parking, check quick easy, little disappointed non-existent view room room clean nice size, bed comfortable woke stiff neck high pillows, not soundproof like heard music room night morning loud bangs doors opening closing hear people talking hallway, maybe just noisy neighbors, aveda bath products nice, did not goldfish stay nice touch taken advantage staying longer, location great walking distance shopping, overall nice experience having pay 40 parking night,  ",
         "4"
        ],
        [
         "1",
         "ok nothing special charge diamond member hilton decided chain shot 20th anniversary seattle, start booked suite paid extra website description not, suite bedroom bathroom standard hotel room, took printed reservation desk showed said things like tv couch ect desk clerk told oh mixed suites description kimpton website sorry free breakfast, got kidding, embassy suits sitting room bathroom bedroom unlike kimpton calls suite, 5 day stay offer correct false advertising, send kimpton preferred guest website email asking failure provide suite advertised website reservation description furnished hard copy reservation printout website desk manager duty did not reply solution, send email trip guest survey did not follow email mail, guess tell concerned guest.the staff ranged indifferent not helpful, asked desk good breakfast spots neighborhood hood told no hotels, gee best breakfast spots seattle 1/2 block away convenient hotel does not know exist, arrived late night 11 pm inside run bellman busy chating cell phone help bags.prior arrival emailed hotel inform 20th anniversary half really picky wanted make sure good, got nice email saying like deliver bottle champagne chocolate covered strawberries room arrival celebrate, told needed foam pillows, arrival no champagne strawberries no foam pillows great room view alley high rise building good not better housekeeping staff cleaner room property, impressed left morning shopping room got short trips 2 hours, beds comfortable.not good ac-heat control 4 x 4 inch screen bring green shine directly eyes night, light sensitive tape controls.this not 4 start hotel clean business hotel super high rates, better chain hotels seattle,  ",
         "2"
        ],
        [
         "2",
         "nice rooms not 4* experience hotel monaco seattle good hotel n't 4* level.positives large bathroom mediterranean suite comfortable bed pillowsattentive housekeeping staffnegatives ac unit malfunctioned stay desk disorganized, missed 3 separate wakeup calls, concierge busy hard touch, did n't provide guidance special requests.tv hard use ipod sound dock suite non functioning. decided book mediterranean suite 3 night weekend stay 1st choice rest party filled, comparison w spent 45 night larger square footage room great soaking tub whirlpool jets nice shower.before stay hotel arrange car service price 53 tip reasonable driver waiting arrival.checkin easy downside room picked 2 person jacuzi tub no bath accessories salts bubble bath did n't stay, night got 12/1a checked voucher bottle champagne nice gesture fish waiting room, impression room huge open space felt room big, tv far away bed chore change channel, ipod dock broken disappointing.in morning way asked desk check thermostat said 65f 74 2 degrees warm try cover face night bright blue light kept, got room night no, 1st drop desk, called maintainence came look thermostat told play settings happy digital box wo n't work, asked wakeup 10am morning did n't happen, called later 6pm nap wakeup forgot, 10am wakeup morning yep forgotten.the bathroom facilities great room surprised room sold whirlpool bath tub n't bath amenities, great relax water jets going,  ",
         "3"
        ],
        [
         "3",
         "unique, great stay, wonderful time hotel monaco, location excellent short stroll main downtown shopping area, pet friendly room showed no signs animal hair smells, monaco suite sleeping area big striped curtains pulled closed nice touch felt cosy, goldfish named brandi enjoyed, did n't partake free wine coffee/tea service lobby thought great feature, great staff friendly, free wireless internet hotel worked suite 2 laptops, decor lovely eclectic mix pattens color palatte, animal print bathrobes feel like rock stars, nice did n't look like sterile chain hotel hotel personality excellent stay,  ",
         "5"
        ],
        [
         "4",
         "great stay great stay, went seahawk game awesome, downfall view building did n't complain, room huge staff helpful, booked hotels website seahawk package, no charge parking got voucher taxi, problem taxi driver did n't want accept voucher barely spoke english, funny thing speak arabic called started making comments girlfriend cell phone buddy, took second realize just said fact speak language face priceless, ass told, said large city, told head doorman issue called cab company promply answer did n't, apologized offered pay taxi, bucks 2 miles stadium, game plan taxi return going humpin, great walk did n't mind, right christmas wonderful lights, homeless stowed away building entrances leave, police presence not greatest area stadium, activities 7 blocks pike street waterfront great coffee shops way, hotel mantained foyer awesome, wine tasting available evening, best dog, taking st. bernard time family, safes hotel located service desk room, bathroom huge jetted tub huge, funny house keeping walked girlfriend getting dressed, did n't hear knock doing turn service, screamed girlfriend screams hit floor laughing, started talking spanish worked, place recommend price, check online deals just good not better, besite contains deals vouchers travel websites n't tell,  ",
         "5"
        ],
        [
         "5",
         "love monaco staff husband stayed hotel crazy weekend attending memorial service best friend husband celebrating 12th wedding anniversary, talk mixed emotions, booked suite hotel monte carlos, loaned beautiful fan-tanned goldfish named joliet weekend visited dogs worked desk human companions, room decorated nicely couch used pillows, l'occitane bath amenities welcome sight, room quiet peaceful, wireless internet access wonderful server went morning leaving problems printing boarding passes, afternoon reception serves oenophile-satisfying wine australia scrumptious cookies, restaurant closed renovation stay finally ate food good drinks better, word caution restaurant larger person not sit booths wo n't fit, 5'6 125 lbs husband 5'9 175. table smack-against stomach couple inches space mighty uncomfortable patron larger pregnant, bad design opinion place decorated funky welcoming way metal wood handblown glass light fixtures expect seattle capital glass art industry, definitely stay reason,  ",
         "5"
        ],
        [
         "6",
         "cozy stay rainy city, husband spent 7 nights monaco early january 2008. business trip chance come ride.we booked monte carlo suite proved comfortable longish stay, room 905 located street building, street noise not problem view interesting rooms building look dank alley midsection large office building, suite comfortable plenty room spread, bathroom attractive squeaky clean small comparison generous proportions sitting sleeping areas, lots comfortable seating options good lighting plenty storage clothing luggage, hotel staff friendly efficient, housekeeping staff did great job pleasant, requests responded quickly.the location quite good, easy walk pike street market seattle art museum notch shopping dining options.a positive experience,  ",
         "5"
        ],
        [
         "7",
         "excellent staff, housekeeping quality hotel chocked staff make feel home, experienced exceptional service desk staff concierge door men maid service needs work, maid failed tuck sheets foot bed instance soiled sheets used, staff quickley resolved soiled sheets issue, guess relates employee not reflection rest staff.we received excellent advice concierge regarding resturants area happy hour wine tasting nice touch staff went way make feel home.great location like close good food shopping took play 5th street theather well.pikes market pioneer square access mono rail short walking distance,  ",
         "4"
        ],
        [
         "8",
         "hotel stayed hotel monaco cruise, rooms generous decorated uniquely, hotel remodeled pacific bell building charm sturdiness, everytime walked bell men felt like coming home, secure, great single travelers, location fabulous, walk things pike market space needle.little grocery/drug store block away, today green, bravo, 1 double bed room room bed couch separated curtain, snoring mom slept curtain, great food nearby,  ",
         "5"
        ],
        [
         "9",
         "excellent stayed hotel monaco past w/e delight, reception staff friendly professional room smart comfortable bed, particularly liked reception small dog received staff guests spoke loved, mild negative distance uphill ppmarket restaurants 1st, overall great experience,  ",
         "5"
        ],
        [
         "10",
         "poor value stayed monaco seattle july, nice hotel priced 100- 150 night not, hotel takes beating quotient, experience simply average, nothing exceptional paying 300+ n't ca n't terribly disappointed, wife stayed nicest suites 200/night felt like overpaying, best advice shop, quality-wise league average marriott nice best western,  ",
         "2"
        ],
        [
         "11",
         "nice value seattle stayed 4 nights late 2007. looked comparable hilton marriott westin area points/miles n't gave monaco shot, pleasantly surprised nice room service quick tasty bed especially comfortable unlike people nothing positive things say service, downside relatively small exercise room treadmill heck east coast time ran person 5 days, definitely stay,  ",
         "4"
        ],
        [
         "12",
         "nice hotel good location hotel kimpton design whimsical vibe fun, staff young casual problem hotel busy stay friendly helpful, group reserved rooms gave connecting rooms fuss, not busy week.the rooms decent size not huge pretty average city hotel, beds nice bathrooms clean bright pocket doors ideal busy bathroom, room design bright cheery flat panel tv, location little noisy fine 5th floor, location convenient walkable attractions new central library sam art museum benaroya concert hall pike place market, parking steep 29/night, evening wine receptions popular,  ",
         "4"
        ],
        [
         "13",
         "nice hotel not nice staff hotel lovely staff quite rude, bellhop desk clerk going way make things difficult, waited forever check heavy bags no help getting throught double doors room, worst desk clerk checking tap tap tap car waited pick 20 minutes, got home noticed 1,000 dollar hold credit card took 5 phonecalls 2 faxes 1 week resolved, stay warwck 4th lenora rooms ok..but al friendly faces tiring day airport,  ",
         "3"
        ],
        [
         "14",
         "great hotel night quick business trip, loved little touches like goldfish leopard print robe, complaint wifi complimentary not internet access business center, great location library service fabulous,  ",
         "4"
        ],
        [
         "15",
         "horrible customer service hotel stay february 3rd 4th 2007my friend picked hotel monaco appealing website online package included champagne late checkout 3 free valet gift spa weekend, friend checked room hours earlier came later, pulled valet young man just stood, asked valet open said, pull bags didn__Ç_é_ offer help, got garment bag suitcase came car key room number says not valet, car park car street pull, left key working asked valet park car gets, went room fine bottle champagne oil lotion gift spa, dressed went came got bed noticed blood drops pillows sheets pillows, disgusted just unbelievable, called desk sent somebody 20 minutes later, swapped sheets left apologizing, sunday morning called desk speak management sheets aggravated rude, apparently no manager kind supervisor weekend wait monday morning, young man spoke said cover food adding person changed sheets said fresh blood rude tone, checkout 3pm package booked, 12 1:30 staff maids tried walk room opening door apologizing closing, people called saying check 12 remind package, finally packed things went downstairs check, quickly signed paper took, way took closer look room, unfortunately covered food offered charged valet, called desk ask charges lady answered snapped saying aware problem experienced monday like told earlier, life treated like hotel, not sure hotel constantly problems lucky ones stay recommend anybody know,  ",
         "1"
        ],
        [
         "16",
         "disappointed say anticipating stay hotel monaco based reviews seen tripadvisor, definitely disppointment, decor room hotel envisioned nice, housekeeping staff impressive extremely polite cheery helpful, desk bellmen standard customer service, lots little things easily overlooked broken make mirror sagging post bathroom jiggly entrance handle room did n't feel secure handle nearly falling door, husband early morning flight mid-week asked cab called, suggested cab ride cost double private car flat-rate n't case, knew cost cab 30 car 38 bell staff insisted like 65 taxi ride, cab driver later explained bell staff kick referrals, preferred guests city and/or hotel hotel staff looking best interests, new years planned dining restaurant hotel new year day, came dressed dinner told desk closed holiday, asked nearby response good luck finding today, good luck, thanks help, feature needed hotel business centre work, downstairs service completely semi-funcitional, internet service out-sourced ended spending 50 money n't work no refund 2.5 hours vacation time trouble-shooting internet company toll free service line, asked desk times assistance told, worst experience time asked desk assistance got response included shrug say oh bad, majority staff attitude just simply did not care needed help dared intrude time got snotty response, occasions caught desk girls smirking thought turned n't, talk frustrating, honesty n't wait check, nice decor liked goldfish housekeeping staff great end hotel want dash door n't way not concerned taking greet pretty ignored desk area unless approached, time street westin, saw nothing smiling faces coming going hotel,  ",
         "2"
        ],
        [
         "17",
         "fantastic stay monaco seattle hotel monaco holds high standards kimpton hotel line, having stayed kimpton hotels cities easily say seattle hotel monaco best seen, service attentive prompt, based member kimpton loyalty program upgraded 10th floor room great view 4th street excellent public library kitty-corner hotel, highly recommend tour public library blown away, room quite spacious beautiful flat-screen television dvd/cd player, exercise room pretty standard kimpton size means adequate not outstanding eliptical cardio machines stationary bikes personal viewing screens, cardio machine screens accept dvd not seen, kimpton hotels hotel monaco line particular hotel lobby stylish quirky inviting, easy imagine spending time relaxing comfortable over-stuffed chairs, restaurant attached hotel sazerac good, far eaten lunch look forward breakfast tomorrow, kimpton properties able connect free highspeed internet ethernet seconds cruising web checking email office no problems, opinion ca n't wrong kimpton hotel seattle hotel monaco certainly excellent choice,  ",
         "5"
        ],
        [
         "18",
         "good choice hotel recommended sister, great location room nice, comfortable bed- quiet- staff helpful recommendations restaurants, pike market 4 block walk, stay,  ",
         "5"
        ],
        [
         "19",
         "hmmmmm say really high hopes hotel monaco chose base girlfriend shopping trip seattle, stay say given competition seattle just okay, hotel lot nice features little things detract bedding super soft luxurious comforters pillows, mattress rock hard standard hotel bed kept awake nights, furnishings nice colors patterns fun chair rip wall paper peeling, stayed room 815 noise like fog horn vibrated walls stay, guess water pipes really annoying.on waking morning packages decaf instead regular coffee, took 30 minutes send coffee showed just package, coffee town usa little package 3 tiny dried creamers, supposed coffee service lobby saw, cleared really early, gone 10am, wine reception 5-6 boy better time walk 5:50 like did look manager like trying scope 2nd glass, food plate goldfish crackers, classy.friday night restaurant bar closed 4pm private party, planned eat heard fun bar, bummer add rest.all hotel posters say things like hotel comfort, felt catered comfortable, no staff asked doing said hello, looking visit,  ",
         "3"
        ],
        [
         "20",
         "service service service spent week g-friend labor day bumbershoot, gray line airporter drops corner hotel 10 person cab 28 total make sure flat rate town car 38. location central downtown street w. it__Ç_é_ quick walk points tourist business, yes space needle bit far monorail westlake center easy walk away, tourist underground tour public market space needle emp, leave bit room luggage shopping great, neighborhood safe clean, room mediterranean suite quite large equipped two-person jacuzzi tub small stand glass-enclosed shower, room no view did not care, room clean small throw blanket adorned foot bed took, tastefully decorated walls striped, trust wont feel like stale hotel, ask gold fish bring well-behaved dog company.service aspects excellent, desk house keeping concierge room service bell desk ready provide warm professional service, test don__Ç_é_ flinch.gym open 24 hours newer cardio machines dumbbells, highest weight 25. water towels tv, gold__Ç_é_ walking distance.gastronomy sazerac worth try not impressive it__Ç_é_ amusing.this visit seattle monaco, like beds westin better prefer monaco afford w. g-friends visit wants bumbershoot year stay hotel monaco,  ",
         "5"
        ],
        [
         "21",
         "excellent stay, delightful surprise stay monaco, thoroughly enjoyed stay, room comfortable lovely amenities friendly staff, especially enjoyed hour indulgence, definitely come,  ",
         "5"
        ],
        [
         "22",
         "good value downtown hotel monaco seattle great option pricey area town, rooms w street going close 400 night, hotel monaco unique interesting cozy, bed/linens quality aveda products bathroom nice touch.you close downtown quick cab ride away nightlife restaurants loved lola, experience quirky luxurious fun.i definitely stay,  ",
         "4"
        ],
        [
         "23",
         "hotel monaco great location service hotel monaco centrally located provides excellent service, recently stayed 4/23-5/1, originally checked slight problem informed booked queen beds expedia room king bed, fortunately fellow guest checking time swapped rooms, future reference booking expedia recommend double checking hotel ensure receive correct room, staff stated better book hotel directly match online rates, additionally concierge marco helpful, sat night called salty make reservations brunch day informed no seats available, following day concierge called restaurant hours wanted dine able book table 5 great window view, hotel blocks away pike place market seattle art museum shopping district walking distance space needle experience music project attractions, ammenities services provided hotel include pet goldfish wine tasting yoga mat use room, seattle recommend taking helicopter tour mt, st. helens hoffstadt visitor center,  ",
         "5"
        ],
        [
         "24",
         "great location need internally upgrade advantage north end downtown seattle great restaurants nearby good prices, rooms need updated literally thought sleeping 1970 bed old pillows sheets, net result bad nights sleep, stay location, staff friendly,  ",
         "2"
        ],
        [
         "25",
         "n't mind noise place great, read reviews noise used hotel website book room, interesting site gives checkbox options 1 room farthest elevator 2 room higher floor 3 quiet room, getting quietest room possible checked hoping, got 6th floor 18-19 floors hall elevator listened trucks ambulance sirens night, sheeeesh, aside heating units sound like small plane engines hear surrounding rooms.if noise sleeps facilities clean conveniently located reasonably priced staff quite helpful,  ",
         "3"
        ],
        [
         "26",
         "loved, stayed warwick overnight getway enjoy christmas shopping, warwick exceeded expectations, staff wonderful extrememly friendly room clean service lounge wonderful, came contact hotel friendly, women bathroom lever lounge well.. think haunted totally creepy vibe lights anywho, really enjoyed stay going couple days,  ",
         "4"
        ],
        [
         "27",
         "met expectations centrally located hotel blocks water popular nightlife shopping options belltown downtown, classify property star location, paid wedding rate not sure fares value proposition, room spacious little outdated, rooms decent views lower floor drab panaroma parking lot buildings, adequate fitness center sauna pool basement quaint bar/restaurant attached hotel, parking 30 day outrage possibly standard downtown street parking weekend save dollars, willing stay future price significantly lower nearby four-star competition,  ",
         "3"
        ],
        [
         "28",
         "nice hotel husband stayed warwick 4 years ago liked hotel location did not hesitate book trip.we asked received non-smoking room king bed high floor, hoping hotel nice view space needle, check-in nice friendly, keys minutes nice room small loveseat juliet balcony.love location hotel just block away best restaurants downtown dahlia lounge palace kitchen lola small grocery store/mini-mart right street wine, easy walk pike place market.on site hotel nice restaurant lounge area, ate breakfast hotel drinks lounge/bar times, good service.we did n't chance use did look pool exercise room located basement, pool small definitely useable, exercise room variety machines weights not newest market definitely decent machines, kept neat clean exercise room plenty towels water cooler available.i think ran maid days leaving friendly.we used business center couple times consisted 2 computers free internet printer, just needed ask key desk, nice handy.overall thought staff helpful hotel quiet good location definitely met expectations did stayed years ago, definitely return hope soon,  ",
         "4"
        ],
        [
         "29",
         "good hotel not large hotel newly decorated, rooms good size clean, excellent location 2 blocks centre town 4 blocks market area.hotel resturant bustling place alot diners coming street, good meal there.overall highly recommend staying,  ",
         "4"
        ],
        [
         "30",
         "good choice seattle stayed night business booked company, overall satisfactory arrived late evening room 17th floor clean comfortable great view, bathroom little small clean equipped, good night sleep enjoyed excellent breakfast restaurant checking, staff encountered friendly polite,  ",
         "4"
        ],
        [
         "31",
         "great location expensive parking warwick heart seattle easy walking distance pikes place monorail terminal downtown shops, stayed twice recently start finish tour pacific north west, staff helpful knowledgable rooms large comfy armchair large bedded room, rooms fridge coffee maker.parking site expensive guess reflects city centre parking prices, free zone travel seattle buses cheap free travel central seattle handy grocery store opposite,  ",
         "4"
        ],
        [
         "32",
         "noise airconditioner-a standard, arranged stay travel agency unfortunately warwick seattle hotel dissapointment trip, 3 night stay warwick changed 3 rooms, starting minute stay hotel personnel didn`t make feel like guest like intruder, reluctant help solve complaints, hotel right downtown 5 minutes really good restaurants like good thing, availability room offered 2nd floor window directly opening car parking level, changed room, 3 rooms loud sound coming air conditioner/ heating unbelievable hotel, hotel personnel told standard noise rooms, tried avoid using night order sleep possible watching tv loudly,  ",
         "1"
        ],
        [
         "33",
         "good location poor cleanliness warwick hotel great location seattle, close shopping pike place seattle centre, really lets hotel cleanliness, bed linen torn curtains torn floor stains, hotel advertises having balcony reality disappointment, stayed hotel san diego did balcony table chairs, warwick balcony 10 inches.the view rooms view space needle terrific does n't make poor cleanliness, check staff pleasant nor unpleasant decided not sample restaurant, ralph deli street great snacks cafe.there plenty better hotels seattle slightly money warwick choose e.g hotel andra,  ",
         "2"
        ],
        [
         "34",
         "good place spending big bucks warwick plenty comfortable nice, nice view space needle room, n't expect balcony, just 18 inch ledge ironwork falling overboard, open patio door partially step view lake union elliott bay, morning space needle hidden clouds, neat sunny weather cloudy, needed warwick, no complaints,  ",
         "4"
        ],
        [
         "35",
         "nice hotel trip seattle wanted stay downtown, good rate hotel decided stay warwick, clean stayed 17th floor excellent view space needle downtown, nice able open sliding door let cool air, bed comfy pillows not, room clean parking not problem use hotel parking, staff friendly helpful, ask key business center 2 computers, needless say hassle use computers acquire key, restaurant good breakfast, hotel not walking distance major attractions like stated, space needle pike market 20 mins away walking opted drive there.we pleased hotel stay,  ",
         "4"
        ],
        [
         "36",
         "great value seattle spouse stayed warwick seattle days september, hotel does not disappoint reasonably priced stay downtown area, easy walk sightseeing attractions blocks waterfront free bus seattle figure worked research, room king bed spacious nicely appointed comfortable plenty pillows, coffee room course great seattle, bath finished marble deep tub hand-held shower nice touch, toiletries average not huge consideration, complaints concerned desk, reservations trip leg olympic penninsula decided cancel second reservation, arrived hotel day travel desk clerk kept waiting minutes hello, moved second desk clerk free told reservation not, no attempt look, walk stairs parking garage confirmation luggage did reservation, following day office tried told n't staying, parking 21/day pretty steep option parking seattle scarce, hotel does n't shuttle option cab 30.the hotel restaurant adequate really great breakfast walk block mayflower park hotel pricey fabulous,  ",
         "4"
        ],
        [
         "37",
         "gem hotel absolute gem, small great service, room not huge certainly adequate clean comfortable, ask room high floor great view downtown space needle.best attentive staff, concierges friendly helpful, shuttle drivers went way literally, victoria ferry pick, convenient.would recommend,  ",
         "5"
        ],
        [
         "38",
         "pretty good value visit seattle frequently, 1 2 days longer, staying 2 nights not worth especially hotel raised rates lately, recommend ramada steps away, staying longer time perfect, especially families, fancier hotels town warwick satisfy families especially expensive suites, swimming pool bit dark balconies acually just big step windows views location perfect, small restaurant dont overpriced does not offer better food downtown,  ",
         "4"
        ],
        [
         "39",
         "average nice stay hotel amazing location great restaurants gourmet grocery cinerama 1 block radius, macy nordstroms shopping blocks, mattress comfy, amazing sweeping view space needle lake union downtown elliott bay, great pool gym facility, room service nothing write home, n't pizza, parking 21, yikes, old building nicely remodeled,  ",
         "4"
        ],
        [
         "40",
         "bad choice, booked hotel hot wire called immediately requesting nonsmoking room king bed room away elevator/ice.the person spoke pleasant stated not guarantee requests honored make note reservation, check-in person desk rude said no special request noted reservation card andstated no king beds way reservation stuck 2 double beds, located directly accross elevator ice, nonsmoking, no elevator parking garage hotel, warwick mats garage filthy stairwells, hotel faces 4th smells urine, carpets registration elevator area need cleaning, upholstery curtains room needed cleaning andpressing sign bathroom water conservation tub facet dripped continuously, tub drain needsattention shower curtain holes, no coffee maker room, bedding did not fit bed sleeping directly mattress bedding askew, staff unfriendly short, housekeeping staff quite pleasant, stay hotel,  ",
         "1"
        ],
        [
         "41",
         "good value hotel stayed warwick times past years spent night march 25 2005. room fine king bed tv pay view movies mini-fridge, thing missing coffee maker, nice marble bathroom hand held shower, view east hotel space needle time viewed 2 westin hotel towers, price right got 10 miles aadvantage card, fly ointment 21 overnight parking charge, definately come location great,  ",
         "4"
        ],
        [
         "42",
         "warwick bad good reviews warwick shocks staff quite rude rooms fairly dirty, cut asked bandaid did not, requested bottle opener did not better service,  ",
         "2"
        ],
        [
         "43",
         "great service warwick just recently spent 4 days christmas holidays warwick, helpfulness care courtesy experienced desk restaurant room service housekeeping staff truly average greatly appreciated, restaurant turned fabulous meals time certain operating skeleton staff, thing prevents giving place excellent rating following hotel tired, old dirty carpets bedding expect hostel, given price range rooms face lift necessary,  ",
         "4"
        ],
        [
         "44",
         "austin powers decor familiar, hotel seattlewhere sheets 3 different colors hair.but okbecause clean second day.the bathroom friend cringe.she asked brought flip flops sanitizer spray.the dirty shag carpet did n't stop wall.it crawled inches.i star saw shining worse,  ",
         "2"
        ],
        [
         "45",
         "great location n't stay long needed place stay seattle prior catching early morning amtrak train portland, looked train station not, dropping hertz car hilton downtown just wanted place spend night, called hotel seattle based location tourist map near hilton, did n't access internet research reviews did not stay, location great virtually door high end hotels, half price hilton thought try, checked asked aaa discount clerk response, time heard hotel desk clerk not knowing aaa, room used low budget movie version run hotel threadbare carpets dingy curtains not quite hanging right minimal lighting strange hanging light middle room dingy bathroom, definitely dingy did not appear obviously dirty, no a/c luckily did n't need, bed not particularly comfortable little boucy people definitely gravitated middle, no clock room did wake requested.it ok spending night n't want spend, positive great safe location quick taxi ride train station shower great, not invested low flow shower heads water pressure really high, really enjoyed conversation desk clerk morning, mentioned clerk previous night heard aaa told clerk moron owner not asked interview, went say check reviews trip advisor listed worst hotels seattle, got ta love type enthusiastic employee, worked night, friend day clerk did mention nicer rooms, definitely n't want not nice ones, recommend ask room committing,  ",
         "2"
        ],
        [
         "46",
         "pay read reviews booked knew getting, mind n't surprised, fact better expected, yes rooms outdated towels floormat limited cable tv overall lack amenities use hotel, reviewer said like budget overseas hotel stayed similar condition just enjoyed experience, check desk service great, asked extra pillows maid got, spent 5 flowers pike street added character room.location, friends stayed fairmont street stayed 3 nights night cost, money went dinners trip victoria baseball games,  ",
         "3"
        ],
        [
         "47",
         "not bad location unmatchable price range, simple sleeping room 80 expect pay 2x, surprisingly cleaner hotels seen past week driving la staying travelodge days inn motel 6. quality furnishings high, sure little run spots just old building usual character flaws none affected comfort, lucky corner room especially nice look w know paying 250+/night, bath worked n't care watch tv vacation no idea worked want believe comments feel free, mean room come,  ",
         "3"
        ],
        [
         "48",
         "remarkable hotel needed days booked inn based tripadvisor reviews, great hotel, staff professional accomodating, town car service available airport immaculate rooms spacious bathroom great location, not great hotel price great hotel, room facing inner coutyard no problem noise, rooms face st. noisy, location excellent downtown seattle.went attached restaurant bacco breakfast cafe champagne dinner, excellent,  ",
         "5"
        ],
        [
         "49",
         "great location friendly staff stayed hotel easter throughly enjoyed time, superably located exploring seattle especially market rooms good size.the staff not friendly helpful reception area welcoming.our room exit stairwell night hear rumbling assume like air conditioning pipes,  ",
         "5"
        ]
       ],
       "shape": {
        "columns": 2,
        "rows": 20491
       }
      },
      "text/html": [
       "<div>\n",
       "<style scoped>\n",
       "    .dataframe tbody tr th:only-of-type {\n",
       "        vertical-align: middle;\n",
       "    }\n",
       "\n",
       "    .dataframe tbody tr th {\n",
       "        vertical-align: top;\n",
       "    }\n",
       "\n",
       "    .dataframe thead th {\n",
       "        text-align: right;\n",
       "    }\n",
       "</style>\n",
       "<table border=\"1\" class=\"dataframe\">\n",
       "  <thead>\n",
       "    <tr style=\"text-align: right;\">\n",
       "      <th></th>\n",
       "      <th>Review</th>\n",
       "      <th>Rating</th>\n",
       "    </tr>\n",
       "  </thead>\n",
       "  <tbody>\n",
       "    <tr>\n",
       "      <th>0</th>\n",
       "      <td>nice hotel expensive parking got good deal sta...</td>\n",
       "      <td>4</td>\n",
       "    </tr>\n",
       "    <tr>\n",
       "      <th>1</th>\n",
       "      <td>ok nothing special charge diamond member hilto...</td>\n",
       "      <td>2</td>\n",
       "    </tr>\n",
       "    <tr>\n",
       "      <th>2</th>\n",
       "      <td>nice rooms not 4* experience hotel monaco seat...</td>\n",
       "      <td>3</td>\n",
       "    </tr>\n",
       "    <tr>\n",
       "      <th>3</th>\n",
       "      <td>unique, great stay, wonderful time hotel monac...</td>\n",
       "      <td>5</td>\n",
       "    </tr>\n",
       "    <tr>\n",
       "      <th>4</th>\n",
       "      <td>great stay great stay, went seahawk game aweso...</td>\n",
       "      <td>5</td>\n",
       "    </tr>\n",
       "    <tr>\n",
       "      <th>...</th>\n",
       "      <td>...</td>\n",
       "      <td>...</td>\n",
       "    </tr>\n",
       "    <tr>\n",
       "      <th>20486</th>\n",
       "      <td>best kept secret 3rd time staying charm, not 5...</td>\n",
       "      <td>5</td>\n",
       "    </tr>\n",
       "    <tr>\n",
       "      <th>20487</th>\n",
       "      <td>great location price view hotel great quick pl...</td>\n",
       "      <td>4</td>\n",
       "    </tr>\n",
       "    <tr>\n",
       "      <th>20488</th>\n",
       "      <td>ok just looks nice modern outside, desk staff ...</td>\n",
       "      <td>2</td>\n",
       "    </tr>\n",
       "    <tr>\n",
       "      <th>20489</th>\n",
       "      <td>hotel theft ruined vacation hotel opened sept ...</td>\n",
       "      <td>1</td>\n",
       "    </tr>\n",
       "    <tr>\n",
       "      <th>20490</th>\n",
       "      <td>people talking, ca n't believe excellent ratin...</td>\n",
       "      <td>2</td>\n",
       "    </tr>\n",
       "  </tbody>\n",
       "</table>\n",
       "<p>20491 rows × 2 columns</p>\n",
       "</div>"
      ],
      "text/plain": [
       "                                                  Review  Rating\n",
       "0      nice hotel expensive parking got good deal sta...       4\n",
       "1      ok nothing special charge diamond member hilto...       2\n",
       "2      nice rooms not 4* experience hotel monaco seat...       3\n",
       "3      unique, great stay, wonderful time hotel monac...       5\n",
       "4      great stay great stay, went seahawk game aweso...       5\n",
       "...                                                  ...     ...\n",
       "20486  best kept secret 3rd time staying charm, not 5...       5\n",
       "20487  great location price view hotel great quick pl...       4\n",
       "20488  ok just looks nice modern outside, desk staff ...       2\n",
       "20489  hotel theft ruined vacation hotel opened sept ...       1\n",
       "20490  people talking, ca n't believe excellent ratin...       2\n",
       "\n",
       "[20491 rows x 2 columns]"
      ]
     },
     "execution_count": 1,
     "metadata": {},
     "output_type": "execute_result"
    }
   ],
   "source": [
    "import pandas as pd \n",
    "df = pd.read_csv(\"../data/tripadvisor_hotel_reviews.csv\")\n",
    "df"
   ]
  },
  {
   "cell_type": "code",
   "execution_count": 2,
   "id": "c28332d8",
   "metadata": {},
   "outputs": [
    {
     "name": "stderr",
     "output_type": "stream",
     "text": [
      "[nltk_data] Downloading package punkt to\n",
      "[nltk_data]     C:\\Users\\Lenovo\\AppData\\Roaming\\nltk_data...\n",
      "[nltk_data]   Package punkt is already up-to-date!\n",
      "[nltk_data] Downloading package stopwords to\n",
      "[nltk_data]     C:\\Users\\Lenovo\\AppData\\Roaming\\nltk_data...\n",
      "[nltk_data]   Package stopwords is already up-to-date!\n",
      "[nltk_data] Downloading package wordnet to\n",
      "[nltk_data]     C:\\Users\\Lenovo\\AppData\\Roaming\\nltk_data...\n",
      "[nltk_data]   Package wordnet is already up-to-date!\n"
     ]
    }
   ],
   "source": [
    "import sys\n",
    "from pathlib import Path\n",
    "sys.path.append(str(Path(\"../utils/preprocessing.py\").resolve().parent.parent / \"utils\"))\n",
    "from preprocessing import preprocess_text"
   ]
  },
  {
   "cell_type": "code",
   "execution_count": 3,
   "id": "9681d2fb",
   "metadata": {},
   "outputs": [
    {
     "name": "stdout",
     "output_type": "stream",
     "text": [
      "<class 'pandas.core.frame.DataFrame'>\n",
      "RangeIndex: 20491 entries, 0 to 20490\n",
      "Data columns (total 2 columns):\n",
      " #   Column  Non-Null Count  Dtype \n",
      "---  ------  --------------  ----- \n",
      " 0   Review  20491 non-null  object\n",
      " 1   Rating  20491 non-null  int64 \n",
      "dtypes: int64(1), object(1)\n",
      "memory usage: 320.3+ KB\n"
     ]
    }
   ],
   "source": [
    "df.info()"
   ]
  },
  {
   "cell_type": "code",
   "execution_count": 4,
   "id": "e37aa031",
   "metadata": {},
   "outputs": [
    {
     "data": {
      "text/plain": [
       "array([4, 2, 3, 5, 1])"
      ]
     },
     "execution_count": 4,
     "metadata": {},
     "output_type": "execute_result"
    }
   ],
   "source": [
    "df[\"Rating\"].unique()"
   ]
  },
  {
   "cell_type": "code",
   "execution_count": 5,
   "id": "374a137b",
   "metadata": {},
   "outputs": [
    {
     "data": {
      "text/plain": [
       "np.int64(0)"
      ]
     },
     "execution_count": 5,
     "metadata": {},
     "output_type": "execute_result"
    }
   ],
   "source": [
    "df.duplicated().sum() "
   ]
  },
  {
   "cell_type": "code",
   "execution_count": 6,
   "id": "a320ad6f",
   "metadata": {},
   "outputs": [
    {
     "data": {
      "text/plain": [
       "Review    0\n",
       "Rating    0\n",
       "dtype: int64"
      ]
     },
     "execution_count": 6,
     "metadata": {},
     "output_type": "execute_result"
    }
   ],
   "source": [
    "df.isna().sum()"
   ]
  },
  {
   "cell_type": "code",
   "execution_count": 7,
   "id": "6e8a2387",
   "metadata": {},
   "outputs": [],
   "source": [
    "df['Review'] = df['Review'].astype(str)"
   ]
  },
  {
   "cell_type": "code",
   "execution_count": 8,
   "id": "7b38cd19",
   "metadata": {},
   "outputs": [
    {
     "data": {
      "application/vnd.microsoft.datawrangler.viewer.v0+json": {
       "columns": [
        {
         "name": "index",
         "rawType": "int64",
         "type": "integer"
        },
        {
         "name": "Review",
         "rawType": "object",
         "type": "string"
        },
        {
         "name": "Rating",
         "rawType": "int64",
         "type": "integer"
        },
        {
         "name": "cleaned_review",
         "rawType": "object",
         "type": "string"
        }
       ],
       "conversionMethod": "pd.DataFrame",
       "ref": "9b69c2bc-5800-4b10-b175-f37fca194612",
       "rows": [
        [
         "0",
         "nice hotel expensive parking got good deal stay hotel anniversary, arrived late evening took advice previous reviews did valet parking, check quick easy, little disappointed non-existent view room room clean nice size, bed comfortable woke stiff neck high pillows, not soundproof like heard music room night morning loud bangs doors opening closing hear people talking hallway, maybe just noisy neighbors, aveda bath products nice, did not goldfish stay nice touch taken advantage staying longer, location great walking distance shopping, overall nice experience having pay 40 parking night,  ",
         "4",
         "nice hotel expensive parking got good deal stay hotel anniversary arrived late evening took advice previous review valet parking check quick easy little disappointed nonexistent view room room clean nice size bed comfortable woke stiff neck high pillow soundproof like heard music room night morning loud bang door opening closing hear people talking hallway maybe noisy neighbor aveda bath product nice goldfish stay nice touch taken advantage staying longer location great walking distance shopping overall nice experience pay parking night"
        ],
        [
         "1",
         "ok nothing special charge diamond member hilton decided chain shot 20th anniversary seattle, start booked suite paid extra website description not, suite bedroom bathroom standard hotel room, took printed reservation desk showed said things like tv couch ect desk clerk told oh mixed suites description kimpton website sorry free breakfast, got kidding, embassy suits sitting room bathroom bedroom unlike kimpton calls suite, 5 day stay offer correct false advertising, send kimpton preferred guest website email asking failure provide suite advertised website reservation description furnished hard copy reservation printout website desk manager duty did not reply solution, send email trip guest survey did not follow email mail, guess tell concerned guest.the staff ranged indifferent not helpful, asked desk good breakfast spots neighborhood hood told no hotels, gee best breakfast spots seattle 1/2 block away convenient hotel does not know exist, arrived late night 11 pm inside run bellman busy chating cell phone help bags.prior arrival emailed hotel inform 20th anniversary half really picky wanted make sure good, got nice email saying like deliver bottle champagne chocolate covered strawberries room arrival celebrate, told needed foam pillows, arrival no champagne strawberries no foam pillows great room view alley high rise building good not better housekeeping staff cleaner room property, impressed left morning shopping room got short trips 2 hours, beds comfortable.not good ac-heat control 4 x 4 inch screen bring green shine directly eyes night, light sensitive tape controls.this not 4 start hotel clean business hotel super high rates, better chain hotels seattle,  ",
         "2",
         "ok nothing special charge diamond member hilton decided chain shot th anniversary seattle start booked suite paid extra website description suite bedroom bathroom standard hotel room took printed reservation desk showed said thing like tv couch ect desk clerk told oh mixed suite description kimpton website sorry free breakfast got kidding embassy suit sitting room bathroom bedroom unlike kimpton call suite day stay offer correct false advertising send kimpton preferred guest website email asking failure provide suite advertised website reservation description furnished hard copy reservation printout website desk manager duty reply solution send email trip guest survey follow email mail guess tell concerned guestthe staff ranged indifferent helpful asked desk good breakfast spot neighborhood hood told hotel gee best breakfast spot seattle block away convenient hotel know exist arrived late night pm inside run bellman busy chating cell phone help bagsprior arrival emailed hotel inform th anniversary half really picky wanted make sure good got nice email saying like deliver bottle champagne chocolate covered strawberry room arrival celebrate told needed foam pillow arrival champagne strawberry foam pillow great room view alley high rise building good better housekeeping staff cleaner room property impressed left morning shopping room got short trip hour bed comfortablenot good acheat control x inch screen bring green shine directly eye night light sensitive tape controlsthis start hotel clean business hotel super high rate better chain hotel seattle"
        ],
        [
         "2",
         "nice rooms not 4* experience hotel monaco seattle good hotel n't 4* level.positives large bathroom mediterranean suite comfortable bed pillowsattentive housekeeping staffnegatives ac unit malfunctioned stay desk disorganized, missed 3 separate wakeup calls, concierge busy hard touch, did n't provide guidance special requests.tv hard use ipod sound dock suite non functioning. decided book mediterranean suite 3 night weekend stay 1st choice rest party filled, comparison w spent 45 night larger square footage room great soaking tub whirlpool jets nice shower.before stay hotel arrange car service price 53 tip reasonable driver waiting arrival.checkin easy downside room picked 2 person jacuzi tub no bath accessories salts bubble bath did n't stay, night got 12/1a checked voucher bottle champagne nice gesture fish waiting room, impression room huge open space felt room big, tv far away bed chore change channel, ipod dock broken disappointing.in morning way asked desk check thermostat said 65f 74 2 degrees warm try cover face night bright blue light kept, got room night no, 1st drop desk, called maintainence came look thermostat told play settings happy digital box wo n't work, asked wakeup 10am morning did n't happen, called later 6pm nap wakeup forgot, 10am wakeup morning yep forgotten.the bathroom facilities great room surprised room sold whirlpool bath tub n't bath amenities, great relax water jets going,  ",
         "3",
         "nice room experience hotel monaco seattle good hotel nt levelpositives large bathroom mediterranean suite comfortable bed pillowsattentive housekeeping staffnegatives ac unit malfunctioned stay desk disorganized missed separate wakeup call concierge busy hard touch nt provide guidance special requeststv hard use ipod sound dock suite non functioning decided book mediterranean suite night weekend stay st choice rest party filled comparison w spent night larger square footage room great soaking tub whirlpool jet nice showerbefore stay hotel arrange car service price tip reasonable driver waiting arrivalcheckin easy downside room picked person jacuzi tub bath accessory salt bubble bath nt stay night got checked voucher bottle champagne nice gesture fish waiting room impression room huge open space felt room big tv far away bed chore change channel ipod dock broken disappointingin morning way asked desk check thermostat said f degree warm try cover face night bright blue light kept got room night st drop desk called maintainence came look thermostat told play setting happy digital box wo nt work asked wakeup morning nt happen called later pm nap wakeup forgot wakeup morning yep forgottenthe bathroom facility great room surprised room sold whirlpool bath tub nt bath amenity great relax water jet going"
        ],
        [
         "3",
         "unique, great stay, wonderful time hotel monaco, location excellent short stroll main downtown shopping area, pet friendly room showed no signs animal hair smells, monaco suite sleeping area big striped curtains pulled closed nice touch felt cosy, goldfish named brandi enjoyed, did n't partake free wine coffee/tea service lobby thought great feature, great staff friendly, free wireless internet hotel worked suite 2 laptops, decor lovely eclectic mix pattens color palatte, animal print bathrobes feel like rock stars, nice did n't look like sterile chain hotel hotel personality excellent stay,  ",
         "5",
         "unique great stay wonderful time hotel monaco location excellent short stroll main downtown shopping area pet friendly room showed sign animal hair smell monaco suite sleeping area big striped curtain pulled closed nice touch felt cosy goldfish named brandi enjoyed nt partake free wine coffeetea service lobby thought great feature great staff friendly free wireless internet hotel worked suite laptop decor lovely eclectic mix patten color palatte animal print bathrobe feel like rock star nice nt look like sterile chain hotel hotel personality excellent stay"
        ],
        [
         "4",
         "great stay great stay, went seahawk game awesome, downfall view building did n't complain, room huge staff helpful, booked hotels website seahawk package, no charge parking got voucher taxi, problem taxi driver did n't want accept voucher barely spoke english, funny thing speak arabic called started making comments girlfriend cell phone buddy, took second realize just said fact speak language face priceless, ass told, said large city, told head doorman issue called cab company promply answer did n't, apologized offered pay taxi, bucks 2 miles stadium, game plan taxi return going humpin, great walk did n't mind, right christmas wonderful lights, homeless stowed away building entrances leave, police presence not greatest area stadium, activities 7 blocks pike street waterfront great coffee shops way, hotel mantained foyer awesome, wine tasting available evening, best dog, taking st. bernard time family, safes hotel located service desk room, bathroom huge jetted tub huge, funny house keeping walked girlfriend getting dressed, did n't hear knock doing turn service, screamed girlfriend screams hit floor laughing, started talking spanish worked, place recommend price, check online deals just good not better, besite contains deals vouchers travel websites n't tell,  ",
         "5",
         "great stay great stay went seahawk game awesome downfall view building nt complain room huge staff helpful booked hotel website seahawk package charge parking got voucher taxi problem taxi driver nt want accept voucher barely spoke english funny thing speak arabic called started making comment girlfriend cell phone buddy took second realize said fact speak language face priceless as told said large city told head doorman issue called cab company promply answer nt apologized offered pay taxi buck mile stadium game plan taxi return going humpin great walk nt mind right christmas wonderful light homeless stowed away building entrance leave police presence greatest area stadium activity block pike street waterfront great coffee shop way hotel mantained foyer awesome wine tasting available evening best dog taking st bernard time family safe hotel located service desk room bathroom huge jetted tub huge funny house keeping walked girlfriend getting dressed nt hear knock turn service screamed girlfriend scream hit floor laughing started talking spanish worked place recommend price check online deal good better besite contains deal voucher travel website nt tell"
        ],
        [
         "5",
         "love monaco staff husband stayed hotel crazy weekend attending memorial service best friend husband celebrating 12th wedding anniversary, talk mixed emotions, booked suite hotel monte carlos, loaned beautiful fan-tanned goldfish named joliet weekend visited dogs worked desk human companions, room decorated nicely couch used pillows, l'occitane bath amenities welcome sight, room quiet peaceful, wireless internet access wonderful server went morning leaving problems printing boarding passes, afternoon reception serves oenophile-satisfying wine australia scrumptious cookies, restaurant closed renovation stay finally ate food good drinks better, word caution restaurant larger person not sit booths wo n't fit, 5'6 125 lbs husband 5'9 175. table smack-against stomach couple inches space mighty uncomfortable patron larger pregnant, bad design opinion place decorated funky welcoming way metal wood handblown glass light fixtures expect seattle capital glass art industry, definitely stay reason,  ",
         "5",
         "love monaco staff husband stayed hotel crazy weekend attending memorial service best friend husband celebrating th wedding anniversary talk mixed emotion booked suite hotel monte carlos loaned beautiful fantanned goldfish named joliet weekend visited dog worked desk human companion room decorated nicely couch used pillow loccitane bath amenity welcome sight room quiet peaceful wireless internet access wonderful server went morning leaving problem printing boarding pass afternoon reception serf oenophilesatisfying wine australia scrumptious cooky restaurant closed renovation stay finally ate food good drink better word caution restaurant larger person sit booth wo nt fit lb husband table smackagainst stomach couple inch space mighty uncomfortable patron larger pregnant bad design opinion place decorated funky welcoming way metal wood handblown glass light fixture expect seattle capital glass art industry definitely stay reason"
        ],
        [
         "6",
         "cozy stay rainy city, husband spent 7 nights monaco early january 2008. business trip chance come ride.we booked monte carlo suite proved comfortable longish stay, room 905 located street building, street noise not problem view interesting rooms building look dank alley midsection large office building, suite comfortable plenty room spread, bathroom attractive squeaky clean small comparison generous proportions sitting sleeping areas, lots comfortable seating options good lighting plenty storage clothing luggage, hotel staff friendly efficient, housekeeping staff did great job pleasant, requests responded quickly.the location quite good, easy walk pike street market seattle art museum notch shopping dining options.a positive experience,  ",
         "5",
         "cozy stay rainy city husband spent night monaco early january business trip chance come ridewe booked monte carlo suite proved comfortable longish stay room located street building street noise problem view interesting room building look dank alley midsection large office building suite comfortable plenty room spread bathroom attractive squeaky clean small comparison generous proportion sitting sleeping area lot comfortable seating option good lighting plenty storage clothing luggage hotel staff friendly efficient housekeeping staff great job pleasant request responded quicklythe location quite good easy walk pike street market seattle art museum notch shopping dining optionsa positive experience"
        ],
        [
         "7",
         "excellent staff, housekeeping quality hotel chocked staff make feel home, experienced exceptional service desk staff concierge door men maid service needs work, maid failed tuck sheets foot bed instance soiled sheets used, staff quickley resolved soiled sheets issue, guess relates employee not reflection rest staff.we received excellent advice concierge regarding resturants area happy hour wine tasting nice touch staff went way make feel home.great location like close good food shopping took play 5th street theather well.pikes market pioneer square access mono rail short walking distance,  ",
         "4",
         "excellent staff housekeeping quality hotel chocked staff make feel home experienced exceptional service desk staff concierge door men maid service need work maid failed tuck sheet foot bed instance soiled sheet used staff quickley resolved soiled sheet issue guess relates employee reflection rest staffwe received excellent advice concierge regarding resturants area happy hour wine tasting nice touch staff went way make feel homegreat location like close good food shopping took play th street theather wellpikes market pioneer square access mono rail short walking distance"
        ],
        [
         "8",
         "hotel stayed hotel monaco cruise, rooms generous decorated uniquely, hotel remodeled pacific bell building charm sturdiness, everytime walked bell men felt like coming home, secure, great single travelers, location fabulous, walk things pike market space needle.little grocery/drug store block away, today green, bravo, 1 double bed room room bed couch separated curtain, snoring mom slept curtain, great food nearby,  ",
         "5",
         "hotel stayed hotel monaco cruise room generous decorated uniquely hotel remodeled pacific bell building charm sturdiness everytime walked bell men felt like coming home secure great single traveler location fabulous walk thing pike market space needlelittle grocerydrug store block away today green bravo double bed room room bed couch separated curtain snoring mom slept curtain great food nearby"
        ],
        [
         "9",
         "excellent stayed hotel monaco past w/e delight, reception staff friendly professional room smart comfortable bed, particularly liked reception small dog received staff guests spoke loved, mild negative distance uphill ppmarket restaurants 1st, overall great experience,  ",
         "5",
         "excellent stayed hotel monaco past delight reception staff friendly professional room smart comfortable bed particularly liked reception small dog received staff guest spoke loved mild negative distance uphill ppmarket restaurant st overall great experience"
        ],
        [
         "10",
         "poor value stayed monaco seattle july, nice hotel priced 100- 150 night not, hotel takes beating quotient, experience simply average, nothing exceptional paying 300+ n't ca n't terribly disappointed, wife stayed nicest suites 200/night felt like overpaying, best advice shop, quality-wise league average marriott nice best western,  ",
         "2",
         "poor value stayed monaco seattle july nice hotel priced night hotel take beating quotient experience simply average nothing exceptional paying nt ca nt terribly disappointed wife stayed nicest suite night felt like overpaying best advice shop qualitywise league average marriott nice best western"
        ],
        [
         "11",
         "nice value seattle stayed 4 nights late 2007. looked comparable hilton marriott westin area points/miles n't gave monaco shot, pleasantly surprised nice room service quick tasty bed especially comfortable unlike people nothing positive things say service, downside relatively small exercise room treadmill heck east coast time ran person 5 days, definitely stay,  ",
         "4",
         "nice value seattle stayed night late looked comparable hilton marriott westin area pointsmiles nt gave monaco shot pleasantly surprised nice room service quick tasty bed especially comfortable unlike people nothing positive thing say service downside relatively small exercise room treadmill heck east coast time ran person day definitely stay"
        ],
        [
         "12",
         "nice hotel good location hotel kimpton design whimsical vibe fun, staff young casual problem hotel busy stay friendly helpful, group reserved rooms gave connecting rooms fuss, not busy week.the rooms decent size not huge pretty average city hotel, beds nice bathrooms clean bright pocket doors ideal busy bathroom, room design bright cheery flat panel tv, location little noisy fine 5th floor, location convenient walkable attractions new central library sam art museum benaroya concert hall pike place market, parking steep 29/night, evening wine receptions popular,  ",
         "4",
         "nice hotel good location hotel kimpton design whimsical vibe fun staff young casual problem hotel busy stay friendly helpful group reserved room gave connecting room fuss busy weekthe room decent size huge pretty average city hotel bed nice bathroom clean bright pocket door ideal busy bathroom room design bright cheery flat panel tv location little noisy fine th floor location convenient walkable attraction new central library sam art museum benaroya concert hall pike place market parking steep night evening wine reception popular"
        ],
        [
         "13",
         "nice hotel not nice staff hotel lovely staff quite rude, bellhop desk clerk going way make things difficult, waited forever check heavy bags no help getting throught double doors room, worst desk clerk checking tap tap tap car waited pick 20 minutes, got home noticed 1,000 dollar hold credit card took 5 phonecalls 2 faxes 1 week resolved, stay warwck 4th lenora rooms ok..but al friendly faces tiring day airport,  ",
         "3",
         "nice hotel nice staff hotel lovely staff quite rude bellhop desk clerk going way make thing difficult waited forever check heavy bag help getting throught double door room worst desk clerk checking tap tap tap car waited pick minute got home noticed dollar hold credit card took phonecalls fax week resolved stay warwck th lenora room okbut al friendly face tiring day airport"
        ],
        [
         "14",
         "great hotel night quick business trip, loved little touches like goldfish leopard print robe, complaint wifi complimentary not internet access business center, great location library service fabulous,  ",
         "4",
         "great hotel night quick business trip loved little touch like goldfish leopard print robe complaint wifi complimentary internet access business center great location library service fabulous"
        ],
        [
         "15",
         "horrible customer service hotel stay february 3rd 4th 2007my friend picked hotel monaco appealing website online package included champagne late checkout 3 free valet gift spa weekend, friend checked room hours earlier came later, pulled valet young man just stood, asked valet open said, pull bags didn__Ç_é_ offer help, got garment bag suitcase came car key room number says not valet, car park car street pull, left key working asked valet park car gets, went room fine bottle champagne oil lotion gift spa, dressed went came got bed noticed blood drops pillows sheets pillows, disgusted just unbelievable, called desk sent somebody 20 minutes later, swapped sheets left apologizing, sunday morning called desk speak management sheets aggravated rude, apparently no manager kind supervisor weekend wait monday morning, young man spoke said cover food adding person changed sheets said fresh blood rude tone, checkout 3pm package booked, 12 1:30 staff maids tried walk room opening door apologizing closing, people called saying check 12 remind package, finally packed things went downstairs check, quickly signed paper took, way took closer look room, unfortunately covered food offered charged valet, called desk ask charges lady answered snapped saying aware problem experienced monday like told earlier, life treated like hotel, not sure hotel constantly problems lucky ones stay recommend anybody know,  ",
         "1",
         "horrible customer service hotel stay february rd th friend picked hotel monaco appealing website online package included champagne late checkout free valet gift spa weekend friend checked room hour earlier came later pulled valet young man stood asked valet open said pull bag didn__ç_é_ offer help got garment bag suitcase came car key room number say valet car park car street pull left key working asked valet park car get went room fine bottle champagne oil lotion gift spa dressed went came got bed noticed blood drop pillow sheet pillow disgusted unbelievable called desk sent somebody minute later swapped sheet left apologizing sunday morning called desk speak management sheet aggravated rude apparently manager kind supervisor weekend wait monday morning young man spoke said cover food adding person changed sheet said fresh blood rude tone checkout pm package booked staff maid tried walk room opening door apologizing closing people called saying check remind package finally packed thing went downstairs check quickly signed paper took way took closer look room unfortunately covered food offered charged valet called desk ask charge lady answered snapped saying aware problem experienced monday like told earlier life treated like hotel sure hotel constantly problem lucky one stay recommend anybody know"
        ],
        [
         "16",
         "disappointed say anticipating stay hotel monaco based reviews seen tripadvisor, definitely disppointment, decor room hotel envisioned nice, housekeeping staff impressive extremely polite cheery helpful, desk bellmen standard customer service, lots little things easily overlooked broken make mirror sagging post bathroom jiggly entrance handle room did n't feel secure handle nearly falling door, husband early morning flight mid-week asked cab called, suggested cab ride cost double private car flat-rate n't case, knew cost cab 30 car 38 bell staff insisted like 65 taxi ride, cab driver later explained bell staff kick referrals, preferred guests city and/or hotel hotel staff looking best interests, new years planned dining restaurant hotel new year day, came dressed dinner told desk closed holiday, asked nearby response good luck finding today, good luck, thanks help, feature needed hotel business centre work, downstairs service completely semi-funcitional, internet service out-sourced ended spending 50 money n't work no refund 2.5 hours vacation time trouble-shooting internet company toll free service line, asked desk times assistance told, worst experience time asked desk assistance got response included shrug say oh bad, majority staff attitude just simply did not care needed help dared intrude time got snotty response, occasions caught desk girls smirking thought turned n't, talk frustrating, honesty n't wait check, nice decor liked goldfish housekeeping staff great end hotel want dash door n't way not concerned taking greet pretty ignored desk area unless approached, time street westin, saw nothing smiling faces coming going hotel,  ",
         "2",
         "disappointed say anticipating stay hotel monaco based review seen tripadvisor definitely disppointment decor room hotel envisioned nice housekeeping staff impressive extremely polite cheery helpful desk bellman standard customer service lot little thing easily overlooked broken make mirror sagging post bathroom jiggly entrance handle room nt feel secure handle nearly falling door husband early morning flight midweek asked cab called suggested cab ride cost double private car flatrate nt case knew cost cab car bell staff insisted like taxi ride cab driver later explained bell staff kick referral preferred guest city andor hotel hotel staff looking best interest new year planned dining restaurant hotel new year day came dressed dinner told desk closed holiday asked nearby response good luck finding today good luck help feature needed hotel business centre work downstairs service completely semifuncitional internet service outsourced ended spending money nt work refund hour vacation time troubleshooting internet company toll free service line asked desk time assistance told worst experience time asked desk assistance got response included shrug say oh bad majority staff attitude simply care needed help dared intrude time got snotty response occasion caught desk girl smirking thought turned nt talk frustrating honesty nt wait check nice decor liked goldfish housekeeping staff great end hotel want dash door nt way concerned taking greet pretty ignored desk area unless approached time street westin saw nothing smiling face coming going hotel"
        ],
        [
         "17",
         "fantastic stay monaco seattle hotel monaco holds high standards kimpton hotel line, having stayed kimpton hotels cities easily say seattle hotel monaco best seen, service attentive prompt, based member kimpton loyalty program upgraded 10th floor room great view 4th street excellent public library kitty-corner hotel, highly recommend tour public library blown away, room quite spacious beautiful flat-screen television dvd/cd player, exercise room pretty standard kimpton size means adequate not outstanding eliptical cardio machines stationary bikes personal viewing screens, cardio machine screens accept dvd not seen, kimpton hotels hotel monaco line particular hotel lobby stylish quirky inviting, easy imagine spending time relaxing comfortable over-stuffed chairs, restaurant attached hotel sazerac good, far eaten lunch look forward breakfast tomorrow, kimpton properties able connect free highspeed internet ethernet seconds cruising web checking email office no problems, opinion ca n't wrong kimpton hotel seattle hotel monaco certainly excellent choice,  ",
         "5",
         "fantastic stay monaco seattle hotel monaco hold high standard kimpton hotel line stayed kimpton hotel city easily say seattle hotel monaco best seen service attentive prompt based member kimpton loyalty program upgraded th floor room great view th street excellent public library kittycorner hotel highly recommend tour public library blown away room quite spacious beautiful flatscreen television dvdcd player exercise room pretty standard kimpton size mean adequate outstanding eliptical cardio machine stationary bike personal viewing screen cardio machine screen accept dvd seen kimpton hotel hotel monaco line particular hotel lobby stylish quirky inviting easy imagine spending time relaxing comfortable overstuffed chair restaurant attached hotel sazerac good far eaten lunch look forward breakfast tomorrow kimpton property able connect free highspeed internet ethernet second cruising web checking email office problem opinion ca nt wrong kimpton hotel seattle hotel monaco certainly excellent choice"
        ],
        [
         "18",
         "good choice hotel recommended sister, great location room nice, comfortable bed- quiet- staff helpful recommendations restaurants, pike market 4 block walk, stay,  ",
         "5",
         "good choice hotel recommended sister great location room nice comfortable bed quiet staff helpful recommendation restaurant pike market block walk stay"
        ],
        [
         "19",
         "hmmmmm say really high hopes hotel monaco chose base girlfriend shopping trip seattle, stay say given competition seattle just okay, hotel lot nice features little things detract bedding super soft luxurious comforters pillows, mattress rock hard standard hotel bed kept awake nights, furnishings nice colors patterns fun chair rip wall paper peeling, stayed room 815 noise like fog horn vibrated walls stay, guess water pipes really annoying.on waking morning packages decaf instead regular coffee, took 30 minutes send coffee showed just package, coffee town usa little package 3 tiny dried creamers, supposed coffee service lobby saw, cleared really early, gone 10am, wine reception 5-6 boy better time walk 5:50 like did look manager like trying scope 2nd glass, food plate goldfish crackers, classy.friday night restaurant bar closed 4pm private party, planned eat heard fun bar, bummer add rest.all hotel posters say things like hotel comfort, felt catered comfortable, no staff asked doing said hello, looking visit,  ",
         "3",
         "hmmmmm say really high hope hotel monaco chose base girlfriend shopping trip seattle stay say given competition seattle okay hotel lot nice feature little thing detract bedding super soft luxurious comforter pillow mattress rock hard standard hotel bed kept awake night furnishing nice color pattern fun chair rip wall paper peeling stayed room noise like fog horn vibrated wall stay guess water pipe really annoyingon waking morning package decaf instead regular coffee took minute send coffee showed package coffee town usa little package tiny dried creamer supposed coffee service lobby saw cleared really early gone wine reception boy better time walk like look manager like trying scope nd glass food plate goldfish cracker classyfriday night restaurant bar closed pm private party planned eat heard fun bar bummer add restall hotel poster say thing like hotel comfort felt catered comfortable staff asked said looking visit"
        ],
        [
         "20",
         "service service service spent week g-friend labor day bumbershoot, gray line airporter drops corner hotel 10 person cab 28 total make sure flat rate town car 38. location central downtown street w. it__Ç_é_ quick walk points tourist business, yes space needle bit far monorail westlake center easy walk away, tourist underground tour public market space needle emp, leave bit room luggage shopping great, neighborhood safe clean, room mediterranean suite quite large equipped two-person jacuzzi tub small stand glass-enclosed shower, room no view did not care, room clean small throw blanket adorned foot bed took, tastefully decorated walls striped, trust wont feel like stale hotel, ask gold fish bring well-behaved dog company.service aspects excellent, desk house keeping concierge room service bell desk ready provide warm professional service, test don__Ç_é_ flinch.gym open 24 hours newer cardio machines dumbbells, highest weight 25. water towels tv, gold__Ç_é_ walking distance.gastronomy sazerac worth try not impressive it__Ç_é_ amusing.this visit seattle monaco, like beds westin better prefer monaco afford w. g-friends visit wants bumbershoot year stay hotel monaco,  ",
         "5",
         "service service service spent week gfriend labor day bumbershoot gray line airporter drop corner hotel person cab total make sure flat rate town car location central downtown street w it__ç_é_ quick walk point tourist business yes space needle bit far monorail westlake center easy walk away tourist underground tour public market space needle emp leave bit room luggage shopping great neighborhood safe clean room mediterranean suite quite large equipped twoperson jacuzzi tub small stand glassenclosed shower room view care room clean small throw blanket adorned foot bed took tastefully decorated wall striped trust wont feel like stale hotel ask gold fish bring wellbehaved dog companyservice aspect excellent desk house keeping concierge room service bell desk ready provide warm professional service test don__ç_é_ flinchgym open hour newer cardio machine dumbbell highest weight water towel tv gold__ç_é_ walking distancegastronomy sazerac worth try impressive it__ç_é_ amusingthis visit seattle monaco like bed westin better prefer monaco afford w gfriends visit want bumbershoot year stay hotel monaco"
        ],
        [
         "21",
         "excellent stay, delightful surprise stay monaco, thoroughly enjoyed stay, room comfortable lovely amenities friendly staff, especially enjoyed hour indulgence, definitely come,  ",
         "5",
         "excellent stay delightful surprise stay monaco thoroughly enjoyed stay room comfortable lovely amenity friendly staff especially enjoyed hour indulgence definitely come"
        ],
        [
         "22",
         "good value downtown hotel monaco seattle great option pricey area town, rooms w street going close 400 night, hotel monaco unique interesting cozy, bed/linens quality aveda products bathroom nice touch.you close downtown quick cab ride away nightlife restaurants loved lola, experience quirky luxurious fun.i definitely stay,  ",
         "4",
         "good value downtown hotel monaco seattle great option pricey area town room w street going close night hotel monaco unique interesting cozy bedlinens quality aveda product bathroom nice touchyou close downtown quick cab ride away nightlife restaurant loved lola experience quirky luxurious funi definitely stay"
        ],
        [
         "23",
         "hotel monaco great location service hotel monaco centrally located provides excellent service, recently stayed 4/23-5/1, originally checked slight problem informed booked queen beds expedia room king bed, fortunately fellow guest checking time swapped rooms, future reference booking expedia recommend double checking hotel ensure receive correct room, staff stated better book hotel directly match online rates, additionally concierge marco helpful, sat night called salty make reservations brunch day informed no seats available, following day concierge called restaurant hours wanted dine able book table 5 great window view, hotel blocks away pike place market seattle art museum shopping district walking distance space needle experience music project attractions, ammenities services provided hotel include pet goldfish wine tasting yoga mat use room, seattle recommend taking helicopter tour mt, st. helens hoffstadt visitor center,  ",
         "5",
         "hotel monaco great location service hotel monaco centrally located provides excellent service recently stayed originally checked slight problem informed booked queen bed expedia room king bed fortunately fellow guest checking time swapped room future reference booking expedia recommend double checking hotel ensure receive correct room staff stated better book hotel directly match online rate additionally concierge marco helpful sat night called salty make reservation brunch day informed seat available following day concierge called restaurant hour wanted dine able book table great window view hotel block away pike place market seattle art museum shopping district walking distance space needle experience music project attraction ammenities service provided hotel include pet goldfish wine tasting yoga mat use room seattle recommend taking helicopter tour mt st helen hoffstadt visitor center"
        ],
        [
         "24",
         "great location need internally upgrade advantage north end downtown seattle great restaurants nearby good prices, rooms need updated literally thought sleeping 1970 bed old pillows sheets, net result bad nights sleep, stay location, staff friendly,  ",
         "2",
         "great location need internally upgrade advantage north end downtown seattle great restaurant nearby good price room need updated literally thought sleeping bed old pillow sheet net result bad night sleep stay location staff friendly"
        ],
        [
         "25",
         "n't mind noise place great, read reviews noise used hotel website book room, interesting site gives checkbox options 1 room farthest elevator 2 room higher floor 3 quiet room, getting quietest room possible checked hoping, got 6th floor 18-19 floors hall elevator listened trucks ambulance sirens night, sheeeesh, aside heating units sound like small plane engines hear surrounding rooms.if noise sleeps facilities clean conveniently located reasonably priced staff quite helpful,  ",
         "3",
         "nt mind noise place great read review noise used hotel website book room interesting site give checkbox option room farthest elevator room higher floor quiet room getting quietest room possible checked hoping got th floor floor hall elevator listened truck ambulance siren night sheeeesh aside heating unit sound like small plane engine hear surrounding roomsif noise sleep facility clean conveniently located reasonably priced staff quite helpful"
        ],
        [
         "26",
         "loved, stayed warwick overnight getway enjoy christmas shopping, warwick exceeded expectations, staff wonderful extrememly friendly room clean service lounge wonderful, came contact hotel friendly, women bathroom lever lounge well.. think haunted totally creepy vibe lights anywho, really enjoyed stay going couple days,  ",
         "4",
         "loved stayed warwick overnight getway enjoy christmas shopping warwick exceeded expectation staff wonderful extrememly friendly room clean service lounge wonderful came contact hotel friendly woman bathroom lever lounge well think haunted totally creepy vibe light anywho really enjoyed stay going couple day"
        ],
        [
         "27",
         "met expectations centrally located hotel blocks water popular nightlife shopping options belltown downtown, classify property star location, paid wedding rate not sure fares value proposition, room spacious little outdated, rooms decent views lower floor drab panaroma parking lot buildings, adequate fitness center sauna pool basement quaint bar/restaurant attached hotel, parking 30 day outrage possibly standard downtown street parking weekend save dollars, willing stay future price significantly lower nearby four-star competition,  ",
         "3",
         "met expectation centrally located hotel block water popular nightlife shopping option belltown downtown classify property star location paid wedding rate sure fare value proposition room spacious little outdated room decent view lower floor drab panaroma parking lot building adequate fitness center sauna pool basement quaint barrestaurant attached hotel parking day outrage possibly standard downtown street parking weekend save dollar willing stay future price significantly lower nearby fourstar competition"
        ],
        [
         "28",
         "nice hotel husband stayed warwick 4 years ago liked hotel location did not hesitate book trip.we asked received non-smoking room king bed high floor, hoping hotel nice view space needle, check-in nice friendly, keys minutes nice room small loveseat juliet balcony.love location hotel just block away best restaurants downtown dahlia lounge palace kitchen lola small grocery store/mini-mart right street wine, easy walk pike place market.on site hotel nice restaurant lounge area, ate breakfast hotel drinks lounge/bar times, good service.we did n't chance use did look pool exercise room located basement, pool small definitely useable, exercise room variety machines weights not newest market definitely decent machines, kept neat clean exercise room plenty towels water cooler available.i think ran maid days leaving friendly.we used business center couple times consisted 2 computers free internet printer, just needed ask key desk, nice handy.overall thought staff helpful hotel quiet good location definitely met expectations did stayed years ago, definitely return hope soon,  ",
         "4",
         "nice hotel husband stayed warwick year ago liked hotel location hesitate book tripwe asked received nonsmoking room king bed high floor hoping hotel nice view space needle checkin nice friendly key minute nice room small loveseat juliet balconylove location hotel block away best restaurant downtown dahlia lounge palace kitchen lola small grocery storeminimart right street wine easy walk pike place marketon site hotel nice restaurant lounge area ate breakfast hotel drink loungebar time good servicewe nt chance use look pool exercise room located basement pool small definitely useable exercise room variety machine weight newest market definitely decent machine kept neat clean exercise room plenty towel water cooler availablei think ran maid day leaving friendlywe used business center couple time consisted computer free internet printer needed ask key desk nice handyoverall thought staff helpful hotel quiet good location definitely met expectation stayed year ago definitely return hope soon"
        ],
        [
         "29",
         "good hotel not large hotel newly decorated, rooms good size clean, excellent location 2 blocks centre town 4 blocks market area.hotel resturant bustling place alot diners coming street, good meal there.overall highly recommend staying,  ",
         "4",
         "good hotel large hotel newly decorated room good size clean excellent location block centre town block market areahotel resturant bustling place alot diner coming street good meal thereoverall highly recommend staying"
        ],
        [
         "30",
         "good choice seattle stayed night business booked company, overall satisfactory arrived late evening room 17th floor clean comfortable great view, bathroom little small clean equipped, good night sleep enjoyed excellent breakfast restaurant checking, staff encountered friendly polite,  ",
         "4",
         "good choice seattle stayed night business booked company overall satisfactory arrived late evening room th floor clean comfortable great view bathroom little small clean equipped good night sleep enjoyed excellent breakfast restaurant checking staff encountered friendly polite"
        ],
        [
         "31",
         "great location expensive parking warwick heart seattle easy walking distance pikes place monorail terminal downtown shops, stayed twice recently start finish tour pacific north west, staff helpful knowledgable rooms large comfy armchair large bedded room, rooms fridge coffee maker.parking site expensive guess reflects city centre parking prices, free zone travel seattle buses cheap free travel central seattle handy grocery store opposite,  ",
         "4",
         "great location expensive parking warwick heart seattle easy walking distance pike place monorail terminal downtown shop stayed twice recently start finish tour pacific north west staff helpful knowledgable room large comfy armchair large bedded room room fridge coffee makerparking site expensive guess reflects city centre parking price free zone travel seattle bus cheap free travel central seattle handy grocery store opposite"
        ],
        [
         "32",
         "noise airconditioner-a standard, arranged stay travel agency unfortunately warwick seattle hotel dissapointment trip, 3 night stay warwick changed 3 rooms, starting minute stay hotel personnel didn`t make feel like guest like intruder, reluctant help solve complaints, hotel right downtown 5 minutes really good restaurants like good thing, availability room offered 2nd floor window directly opening car parking level, changed room, 3 rooms loud sound coming air conditioner/ heating unbelievable hotel, hotel personnel told standard noise rooms, tried avoid using night order sleep possible watching tv loudly,  ",
         "1",
         "noise airconditionera standard arranged stay travel agency unfortunately warwick seattle hotel dissapointment trip night stay warwick changed room starting minute stay hotel personnel didnt make feel like guest like intruder reluctant help solve complaint hotel right downtown minute really good restaurant like good thing availability room offered nd floor window directly opening car parking level changed room room loud sound coming air conditioner heating unbelievable hotel hotel personnel told standard noise room tried avoid using night order sleep possible watching tv loudly"
        ],
        [
         "33",
         "good location poor cleanliness warwick hotel great location seattle, close shopping pike place seattle centre, really lets hotel cleanliness, bed linen torn curtains torn floor stains, hotel advertises having balcony reality disappointment, stayed hotel san diego did balcony table chairs, warwick balcony 10 inches.the view rooms view space needle terrific does n't make poor cleanliness, check staff pleasant nor unpleasant decided not sample restaurant, ralph deli street great snacks cafe.there plenty better hotels seattle slightly money warwick choose e.g hotel andra,  ",
         "2",
         "good location poor cleanliness warwick hotel great location seattle close shopping pike place seattle centre really let hotel cleanliness bed linen torn curtain torn floor stain hotel advertises balcony reality disappointment stayed hotel san diego balcony table chair warwick balcony inchesthe view room view space needle terrific nt make poor cleanliness check staff pleasant unpleasant decided sample restaurant ralph deli street great snack cafethere plenty better hotel seattle slightly money warwick choose eg hotel andra"
        ],
        [
         "34",
         "good place spending big bucks warwick plenty comfortable nice, nice view space needle room, n't expect balcony, just 18 inch ledge ironwork falling overboard, open patio door partially step view lake union elliott bay, morning space needle hidden clouds, neat sunny weather cloudy, needed warwick, no complaints,  ",
         "4",
         "good place spending big buck warwick plenty comfortable nice nice view space needle room nt expect balcony inch ledge ironwork falling overboard open patio door partially step view lake union elliott bay morning space needle hidden cloud neat sunny weather cloudy needed warwick complaint"
        ],
        [
         "35",
         "nice hotel trip seattle wanted stay downtown, good rate hotel decided stay warwick, clean stayed 17th floor excellent view space needle downtown, nice able open sliding door let cool air, bed comfy pillows not, room clean parking not problem use hotel parking, staff friendly helpful, ask key business center 2 computers, needless say hassle use computers acquire key, restaurant good breakfast, hotel not walking distance major attractions like stated, space needle pike market 20 mins away walking opted drive there.we pleased hotel stay,  ",
         "4",
         "nice hotel trip seattle wanted stay downtown good rate hotel decided stay warwick clean stayed th floor excellent view space needle downtown nice able open sliding door let cool air bed comfy pillow room clean parking problem use hotel parking staff friendly helpful ask key business center computer needless say hassle use computer acquire key restaurant good breakfast hotel walking distance major attraction like stated space needle pike market min away walking opted drive therewe pleased hotel stay"
        ],
        [
         "36",
         "great value seattle spouse stayed warwick seattle days september, hotel does not disappoint reasonably priced stay downtown area, easy walk sightseeing attractions blocks waterfront free bus seattle figure worked research, room king bed spacious nicely appointed comfortable plenty pillows, coffee room course great seattle, bath finished marble deep tub hand-held shower nice touch, toiletries average not huge consideration, complaints concerned desk, reservations trip leg olympic penninsula decided cancel second reservation, arrived hotel day travel desk clerk kept waiting minutes hello, moved second desk clerk free told reservation not, no attempt look, walk stairs parking garage confirmation luggage did reservation, following day office tried told n't staying, parking 21/day pretty steep option parking seattle scarce, hotel does n't shuttle option cab 30.the hotel restaurant adequate really great breakfast walk block mayflower park hotel pricey fabulous,  ",
         "4",
         "great value seattle spouse stayed warwick seattle day september hotel disappoint reasonably priced stay downtown area easy walk sightseeing attraction block waterfront free bus seattle figure worked research room king bed spacious nicely appointed comfortable plenty pillow coffee room course great seattle bath finished marble deep tub handheld shower nice touch toiletry average huge consideration complaint concerned desk reservation trip leg olympic penninsula decided cancel second reservation arrived hotel day travel desk clerk kept waiting minute moved second desk clerk free told reservation attempt look walk stair parking garage confirmation luggage reservation following day office tried told nt staying parking day pretty steep option parking seattle scarce hotel nt shuttle option cab hotel restaurant adequate really great breakfast walk block mayflower park hotel pricey fabulous"
        ],
        [
         "37",
         "gem hotel absolute gem, small great service, room not huge certainly adequate clean comfortable, ask room high floor great view downtown space needle.best attentive staff, concierges friendly helpful, shuttle drivers went way literally, victoria ferry pick, convenient.would recommend,  ",
         "5",
         "gem hotel absolute gem small great service room huge certainly adequate clean comfortable ask room high floor great view downtown space needlebest attentive staff concierge friendly helpful shuttle driver went way literally victoria ferry pick convenientwould recommend"
        ],
        [
         "38",
         "pretty good value visit seattle frequently, 1 2 days longer, staying 2 nights not worth especially hotel raised rates lately, recommend ramada steps away, staying longer time perfect, especially families, fancier hotels town warwick satisfy families especially expensive suites, swimming pool bit dark balconies acually just big step windows views location perfect, small restaurant dont overpriced does not offer better food downtown,  ",
         "4",
         "pretty good value visit seattle frequently day longer staying night worth especially hotel raised rate lately recommend ramada step away staying longer time perfect especially family fancier hotel town warwick satisfy family especially expensive suite swimming pool bit dark balcony acually big step window view location perfect small restaurant dont overpriced offer better food downtown"
        ],
        [
         "39",
         "average nice stay hotel amazing location great restaurants gourmet grocery cinerama 1 block radius, macy nordstroms shopping blocks, mattress comfy, amazing sweeping view space needle lake union downtown elliott bay, great pool gym facility, room service nothing write home, n't pizza, parking 21, yikes, old building nicely remodeled,  ",
         "4",
         "average nice stay hotel amazing location great restaurant gourmet grocery cinerama block radius macy nordstroms shopping block mattress comfy amazing sweeping view space needle lake union downtown elliott bay great pool gym facility room service nothing write home nt pizza parking yikes old building nicely remodeled"
        ],
        [
         "40",
         "bad choice, booked hotel hot wire called immediately requesting nonsmoking room king bed room away elevator/ice.the person spoke pleasant stated not guarantee requests honored make note reservation, check-in person desk rude said no special request noted reservation card andstated no king beds way reservation stuck 2 double beds, located directly accross elevator ice, nonsmoking, no elevator parking garage hotel, warwick mats garage filthy stairwells, hotel faces 4th smells urine, carpets registration elevator area need cleaning, upholstery curtains room needed cleaning andpressing sign bathroom water conservation tub facet dripped continuously, tub drain needsattention shower curtain holes, no coffee maker room, bedding did not fit bed sleeping directly mattress bedding askew, staff unfriendly short, housekeeping staff quite pleasant, stay hotel,  ",
         "1",
         "bad choice booked hotel hot wire called immediately requesting nonsmoking room king bed room away elevatoricethe person spoke pleasant stated guarantee request honored make note reservation checkin person desk rude said special request noted reservation card andstated king bed way reservation stuck double bed located directly accross elevator ice nonsmoking elevator parking garage hotel warwick mat garage filthy stairwell hotel face th smell urine carpet registration elevator area need cleaning upholstery curtain room needed cleaning andpressing sign bathroom water conservation tub facet dripped continuously tub drain needsattention shower curtain hole coffee maker room bedding fit bed sleeping directly mattress bedding askew staff unfriendly short housekeeping staff quite pleasant stay hotel"
        ],
        [
         "41",
         "good value hotel stayed warwick times past years spent night march 25 2005. room fine king bed tv pay view movies mini-fridge, thing missing coffee maker, nice marble bathroom hand held shower, view east hotel space needle time viewed 2 westin hotel towers, price right got 10 miles aadvantage card, fly ointment 21 overnight parking charge, definately come location great,  ",
         "4",
         "good value hotel stayed warwick time past year spent night march room fine king bed tv pay view movie minifridge thing missing coffee maker nice marble bathroom hand held shower view east hotel space needle time viewed westin hotel tower price right got mile aadvantage card fly ointment overnight parking charge definately come location great"
        ],
        [
         "42",
         "warwick bad good reviews warwick shocks staff quite rude rooms fairly dirty, cut asked bandaid did not, requested bottle opener did not better service,  ",
         "2",
         "warwick bad good review warwick shock staff quite rude room fairly dirty cut asked bandaid requested bottle opener better service"
        ],
        [
         "43",
         "great service warwick just recently spent 4 days christmas holidays warwick, helpfulness care courtesy experienced desk restaurant room service housekeeping staff truly average greatly appreciated, restaurant turned fabulous meals time certain operating skeleton staff, thing prevents giving place excellent rating following hotel tired, old dirty carpets bedding expect hostel, given price range rooms face lift necessary,  ",
         "4",
         "great service warwick recently spent day christmas holiday warwick helpfulness care courtesy experienced desk restaurant room service housekeeping staff truly average greatly appreciated restaurant turned fabulous meal time certain operating skeleton staff thing prevents giving place excellent rating following hotel tired old dirty carpet bedding expect hostel given price range room face lift necessary"
        ],
        [
         "44",
         "austin powers decor familiar, hotel seattlewhere sheets 3 different colors hair.but okbecause clean second day.the bathroom friend cringe.she asked brought flip flops sanitizer spray.the dirty shag carpet did n't stop wall.it crawled inches.i star saw shining worse,  ",
         "2",
         "austin power decor familiar hotel seattlewhere sheet different color hairbut okbecause clean second daythe bathroom friend cringeshe asked brought flip flop sanitizer spraythe dirty shag carpet nt stop wallit crawled inchesi star saw shining worse"
        ],
        [
         "45",
         "great location n't stay long needed place stay seattle prior catching early morning amtrak train portland, looked train station not, dropping hertz car hilton downtown just wanted place spend night, called hotel seattle based location tourist map near hilton, did n't access internet research reviews did not stay, location great virtually door high end hotels, half price hilton thought try, checked asked aaa discount clerk response, time heard hotel desk clerk not knowing aaa, room used low budget movie version run hotel threadbare carpets dingy curtains not quite hanging right minimal lighting strange hanging light middle room dingy bathroom, definitely dingy did not appear obviously dirty, no a/c luckily did n't need, bed not particularly comfortable little boucy people definitely gravitated middle, no clock room did wake requested.it ok spending night n't want spend, positive great safe location quick taxi ride train station shower great, not invested low flow shower heads water pressure really high, really enjoyed conversation desk clerk morning, mentioned clerk previous night heard aaa told clerk moron owner not asked interview, went say check reviews trip advisor listed worst hotels seattle, got ta love type enthusiastic employee, worked night, friend day clerk did mention nicer rooms, definitely n't want not nice ones, recommend ask room committing,  ",
         "2",
         "great location nt stay long needed place stay seattle prior catching early morning amtrak train portland looked train station dropping hertz car hilton downtown wanted place spend night called hotel seattle based location tourist map near hilton nt access internet research review stay location great virtually door high end hotel half price hilton thought try checked asked aaa discount clerk response time heard hotel desk clerk knowing aaa room used low budget movie version run hotel threadbare carpet dingy curtain quite hanging right minimal lighting strange hanging light middle room dingy bathroom definitely dingy appear obviously dirty ac luckily nt need bed particularly comfortable little boucy people definitely gravitated middle clock room wake requestedit ok spending night nt want spend positive great safe location quick taxi ride train station shower great invested low flow shower head water pressure really high really enjoyed conversation desk clerk morning mentioned clerk previous night heard aaa told clerk moron owner asked interview went say check review trip advisor listed worst hotel seattle got ta love type enthusiastic employee worked night friend day clerk mention nicer room definitely nt want nice one recommend ask room committing"
        ],
        [
         "46",
         "pay read reviews booked knew getting, mind n't surprised, fact better expected, yes rooms outdated towels floormat limited cable tv overall lack amenities use hotel, reviewer said like budget overseas hotel stayed similar condition just enjoyed experience, check desk service great, asked extra pillows maid got, spent 5 flowers pike street added character room.location, friends stayed fairmont street stayed 3 nights night cost, money went dinners trip victoria baseball games,  ",
         "3",
         "pay read review booked knew getting mind nt surprised fact better expected yes room outdated towel floormat limited cable tv overall lack amenity use hotel reviewer said like budget overseas hotel stayed similar condition enjoyed experience check desk service great asked extra pillow maid got spent flower pike street added character roomlocation friend stayed fairmont street stayed night night cost money went dinner trip victoria baseball game"
        ],
        [
         "47",
         "not bad location unmatchable price range, simple sleeping room 80 expect pay 2x, surprisingly cleaner hotels seen past week driving la staying travelodge days inn motel 6. quality furnishings high, sure little run spots just old building usual character flaws none affected comfort, lucky corner room especially nice look w know paying 250+/night, bath worked n't care watch tv vacation no idea worked want believe comments feel free, mean room come,  ",
         "3",
         "bad location unmatchable price range simple sleeping room expect pay x surprisingly cleaner hotel seen past week driving la staying travelodge day inn motel quality furnishing high sure little run spot old building usual character flaw none affected comfort lucky corner room especially nice look w know paying night bath worked nt care watch tv vacation idea worked want believe comment feel free mean room come"
        ],
        [
         "48",
         "remarkable hotel needed days booked inn based tripadvisor reviews, great hotel, staff professional accomodating, town car service available airport immaculate rooms spacious bathroom great location, not great hotel price great hotel, room facing inner coutyard no problem noise, rooms face st. noisy, location excellent downtown seattle.went attached restaurant bacco breakfast cafe champagne dinner, excellent,  ",
         "5",
         "remarkable hotel needed day booked inn based tripadvisor review great hotel staff professional accomodating town car service available airport immaculate room spacious bathroom great location great hotel price great hotel room facing inner coutyard problem noise room face st noisy location excellent downtown seattlewent attached restaurant bacco breakfast cafe champagne dinner excellent"
        ],
        [
         "49",
         "great location friendly staff stayed hotel easter throughly enjoyed time, superably located exploring seattle especially market rooms good size.the staff not friendly helpful reception area welcoming.our room exit stairwell night hear rumbling assume like air conditioning pipes,  ",
         "5",
         "great location friendly staff stayed hotel easter throughly enjoyed time superably located exploring seattle especially market room good sizethe staff friendly helpful reception area welcomingour room exit stairwell night hear rumbling assume like air conditioning pipe"
        ]
       ],
       "shape": {
        "columns": 3,
        "rows": 20491
       }
      },
      "text/html": [
       "<div>\n",
       "<style scoped>\n",
       "    .dataframe tbody tr th:only-of-type {\n",
       "        vertical-align: middle;\n",
       "    }\n",
       "\n",
       "    .dataframe tbody tr th {\n",
       "        vertical-align: top;\n",
       "    }\n",
       "\n",
       "    .dataframe thead th {\n",
       "        text-align: right;\n",
       "    }\n",
       "</style>\n",
       "<table border=\"1\" class=\"dataframe\">\n",
       "  <thead>\n",
       "    <tr style=\"text-align: right;\">\n",
       "      <th></th>\n",
       "      <th>Review</th>\n",
       "      <th>Rating</th>\n",
       "      <th>cleaned_review</th>\n",
       "    </tr>\n",
       "  </thead>\n",
       "  <tbody>\n",
       "    <tr>\n",
       "      <th>0</th>\n",
       "      <td>nice hotel expensive parking got good deal sta...</td>\n",
       "      <td>4</td>\n",
       "      <td>nice hotel expensive parking got good deal sta...</td>\n",
       "    </tr>\n",
       "    <tr>\n",
       "      <th>1</th>\n",
       "      <td>ok nothing special charge diamond member hilto...</td>\n",
       "      <td>2</td>\n",
       "      <td>ok nothing special charge diamond member hilto...</td>\n",
       "    </tr>\n",
       "    <tr>\n",
       "      <th>2</th>\n",
       "      <td>nice rooms not 4* experience hotel monaco seat...</td>\n",
       "      <td>3</td>\n",
       "      <td>nice room experience hotel monaco seattle good...</td>\n",
       "    </tr>\n",
       "    <tr>\n",
       "      <th>3</th>\n",
       "      <td>unique, great stay, wonderful time hotel monac...</td>\n",
       "      <td>5</td>\n",
       "      <td>unique great stay wonderful time hotel monaco ...</td>\n",
       "    </tr>\n",
       "    <tr>\n",
       "      <th>4</th>\n",
       "      <td>great stay great stay, went seahawk game aweso...</td>\n",
       "      <td>5</td>\n",
       "      <td>great stay great stay went seahawk game awesom...</td>\n",
       "    </tr>\n",
       "    <tr>\n",
       "      <th>...</th>\n",
       "      <td>...</td>\n",
       "      <td>...</td>\n",
       "      <td>...</td>\n",
       "    </tr>\n",
       "    <tr>\n",
       "      <th>20486</th>\n",
       "      <td>best kept secret 3rd time staying charm, not 5...</td>\n",
       "      <td>5</td>\n",
       "      <td>best kept secret rd time staying charm star ca...</td>\n",
       "    </tr>\n",
       "    <tr>\n",
       "      <th>20487</th>\n",
       "      <td>great location price view hotel great quick pl...</td>\n",
       "      <td>4</td>\n",
       "      <td>great location price view hotel great quick pl...</td>\n",
       "    </tr>\n",
       "    <tr>\n",
       "      <th>20488</th>\n",
       "      <td>ok just looks nice modern outside, desk staff ...</td>\n",
       "      <td>2</td>\n",
       "      <td>ok look nice modern outside desk staff nt part...</td>\n",
       "    </tr>\n",
       "    <tr>\n",
       "      <th>20489</th>\n",
       "      <td>hotel theft ruined vacation hotel opened sept ...</td>\n",
       "      <td>1</td>\n",
       "      <td>hotel theft ruined vacation hotel opened sept ...</td>\n",
       "    </tr>\n",
       "    <tr>\n",
       "      <th>20490</th>\n",
       "      <td>people talking, ca n't believe excellent ratin...</td>\n",
       "      <td>2</td>\n",
       "      <td>people talking ca nt believe excellent rating ...</td>\n",
       "    </tr>\n",
       "  </tbody>\n",
       "</table>\n",
       "<p>20491 rows × 3 columns</p>\n",
       "</div>"
      ],
      "text/plain": [
       "                                                  Review  Rating  \\\n",
       "0      nice hotel expensive parking got good deal sta...       4   \n",
       "1      ok nothing special charge diamond member hilto...       2   \n",
       "2      nice rooms not 4* experience hotel monaco seat...       3   \n",
       "3      unique, great stay, wonderful time hotel monac...       5   \n",
       "4      great stay great stay, went seahawk game aweso...       5   \n",
       "...                                                  ...     ...   \n",
       "20486  best kept secret 3rd time staying charm, not 5...       5   \n",
       "20487  great location price view hotel great quick pl...       4   \n",
       "20488  ok just looks nice modern outside, desk staff ...       2   \n",
       "20489  hotel theft ruined vacation hotel opened sept ...       1   \n",
       "20490  people talking, ca n't believe excellent ratin...       2   \n",
       "\n",
       "                                          cleaned_review  \n",
       "0      nice hotel expensive parking got good deal sta...  \n",
       "1      ok nothing special charge diamond member hilto...  \n",
       "2      nice room experience hotel monaco seattle good...  \n",
       "3      unique great stay wonderful time hotel monaco ...  \n",
       "4      great stay great stay went seahawk game awesom...  \n",
       "...                                                  ...  \n",
       "20486  best kept secret rd time staying charm star ca...  \n",
       "20487  great location price view hotel great quick pl...  \n",
       "20488  ok look nice modern outside desk staff nt part...  \n",
       "20489  hotel theft ruined vacation hotel opened sept ...  \n",
       "20490  people talking ca nt believe excellent rating ...  \n",
       "\n",
       "[20491 rows x 3 columns]"
      ]
     },
     "execution_count": 8,
     "metadata": {},
     "output_type": "execute_result"
    }
   ],
   "source": [
    "df['cleaned_review'] = df['Review'].apply(preprocess_text)\n",
    "df"
   ]
  },
  {
   "cell_type": "code",
   "execution_count": null,
   "id": "53a64c3f",
   "metadata": {},
   "outputs": [],
   "source": [
    "from nltk.tokenize import sent_tokenize\n",
    "\n",
    "def chunk_text(text, max_words=500):\n",
    "    sentences = sent_tokenize(text)\n",
    "    chunks = []\n",
    "    current_chunk = ''\n",
    "    \n",
    "    for sentence in sentences:\n",
    "        if len(current_chunk.split()) + len(sentence.split()) <= max_words:\n",
    "            current_chunk += ' ' + sentence\n",
    "        else:\n",
    "            chunks.append(current_chunk.strip())\n",
    "            current_chunk = sentence\n",
    "    if current_chunk:\n",
    "        chunks.append(current_chunk.strip())\n",
    "    \n",
    "    return chunks\n",
    "\n",
    "chunk_list = []\n",
    "\n",
    "for idx, row in df.iterrows():\n",
    "    review_chunks = chunk_text(row['cleaned_review'])\n",
    "    for chunk in review_chunks:\n",
    "        chunk_list.append({\n",
    "            'review_chunk': chunk,\n",
    "            'original_index': idx,\n",
    "            'rating': row['Rating']\n",
    "        })\n",
    "\n",
    "chunk_df = pd.DataFrame(chunk_list)"
   ]
  },
  {
   "cell_type": "code",
   "execution_count": 10,
   "id": "0fdb50f6",
   "metadata": {},
   "outputs": [],
   "source": [
    "chunk_df.to_csv('../data/processed_chunks.csv', index=False)"
   ]
  },
  {
   "cell_type": "code",
   "execution_count": 13,
   "id": "740acf5e",
   "metadata": {},
   "outputs": [
    {
     "data": {
      "application/vnd.microsoft.datawrangler.viewer.v0+json": {
       "columns": [
        {
         "name": "index",
         "rawType": "int64",
         "type": "integer"
        },
        {
         "name": "review_chunk",
         "rawType": "object",
         "type": "unknown"
        },
        {
         "name": "original_index",
         "rawType": "int64",
         "type": "integer"
        },
        {
         "name": "rating",
         "rawType": "int64",
         "type": "integer"
        }
       ],
       "conversionMethod": "pd.DataFrame",
       "ref": "3b8ba109-f169-40e8-92db-6f953edbe31b",
       "rows": [
        [
         "0",
         "nice hotel expensive parking got good deal stay hotel anniversary arrived late evening took advice previous review valet parking check quick easy little disappointed nonexistent view room room clean nice size bed comfortable woke stiff neck high pillow soundproof like heard music room night morning loud bang door opening closing hear people talking hallway maybe noisy neighbor aveda bath product nice goldfish stay nice touch taken advantage staying longer location great walking distance shopping overall nice experience pay parking night",
         "0",
         "4"
        ],
        [
         "1",
         "ok nothing special charge diamond member hilton decided chain shot th anniversary seattle start booked suite paid extra website description suite bedroom bathroom standard hotel room took printed reservation desk showed said thing like tv couch ect desk clerk told oh mixed suite description kimpton website sorry free breakfast got kidding embassy suit sitting room bathroom bedroom unlike kimpton call suite day stay offer correct false advertising send kimpton preferred guest website email asking failure provide suite advertised website reservation description furnished hard copy reservation printout website desk manager duty reply solution send email trip guest survey follow email mail guess tell concerned guestthe staff ranged indifferent helpful asked desk good breakfast spot neighborhood hood told hotel gee best breakfast spot seattle block away convenient hotel know exist arrived late night pm inside run bellman busy chating cell phone help bagsprior arrival emailed hotel inform th anniversary half really picky wanted make sure good got nice email saying like deliver bottle champagne chocolate covered strawberry room arrival celebrate told needed foam pillow arrival champagne strawberry foam pillow great room view alley high rise building good better housekeeping staff cleaner room property impressed left morning shopping room got short trip hour bed comfortablenot good acheat control x inch screen bring green shine directly eye night light sensitive tape controlsthis start hotel clean business hotel super high rate better chain hotel seattle",
         "1",
         "2"
        ],
        [
         "2",
         "nice room experience hotel monaco seattle good hotel nt levelpositives large bathroom mediterranean suite comfortable bed pillowsattentive housekeeping staffnegatives ac unit malfunctioned stay desk disorganized missed separate wakeup call concierge busy hard touch nt provide guidance special requeststv hard use ipod sound dock suite non functioning decided book mediterranean suite night weekend stay st choice rest party filled comparison w spent night larger square footage room great soaking tub whirlpool jet nice showerbefore stay hotel arrange car service price tip reasonable driver waiting arrivalcheckin easy downside room picked person jacuzi tub bath accessory salt bubble bath nt stay night got checked voucher bottle champagne nice gesture fish waiting room impression room huge open space felt room big tv far away bed chore change channel ipod dock broken disappointingin morning way asked desk check thermostat said f degree warm try cover face night bright blue light kept got room night st drop desk called maintainence came look thermostat told play setting happy digital box wo nt work asked wakeup morning nt happen called later pm nap wakeup forgot wakeup morning yep forgottenthe bathroom facility great room surprised room sold whirlpool bath tub nt bath amenity great relax water jet going",
         "2",
         "3"
        ],
        [
         "3",
         "unique great stay wonderful time hotel monaco location excellent short stroll main downtown shopping area pet friendly room showed sign animal hair smell monaco suite sleeping area big striped curtain pulled closed nice touch felt cosy goldfish named brandi enjoyed nt partake free wine coffeetea service lobby thought great feature great staff friendly free wireless internet hotel worked suite laptop decor lovely eclectic mix patten color palatte animal print bathrobe feel like rock star nice nt look like sterile chain hotel hotel personality excellent stay",
         "3",
         "5"
        ],
        [
         "4",
         "great stay great stay went seahawk game awesome downfall view building nt complain room huge staff helpful booked hotel website seahawk package charge parking got voucher taxi problem taxi driver nt want accept voucher barely spoke english funny thing speak arabic called started making comment girlfriend cell phone buddy took second realize said fact speak language face priceless as told said large city told head doorman issue called cab company promply answer nt apologized offered pay taxi buck mile stadium game plan taxi return going humpin great walk nt mind right christmas wonderful light homeless stowed away building entrance leave police presence greatest area stadium activity block pike street waterfront great coffee shop way hotel mantained foyer awesome wine tasting available evening best dog taking st bernard time family safe hotel located service desk room bathroom huge jetted tub huge funny house keeping walked girlfriend getting dressed nt hear knock turn service screamed girlfriend scream hit floor laughing started talking spanish worked place recommend price check online deal good better besite contains deal voucher travel website nt tell",
         "4",
         "5"
        ],
        [
         "5",
         "love monaco staff husband stayed hotel crazy weekend attending memorial service best friend husband celebrating th wedding anniversary talk mixed emotion booked suite hotel monte carlos loaned beautiful fantanned goldfish named joliet weekend visited dog worked desk human companion room decorated nicely couch used pillow loccitane bath amenity welcome sight room quiet peaceful wireless internet access wonderful server went morning leaving problem printing boarding pass afternoon reception serf oenophilesatisfying wine australia scrumptious cooky restaurant closed renovation stay finally ate food good drink better word caution restaurant larger person sit booth wo nt fit lb husband table smackagainst stomach couple inch space mighty uncomfortable patron larger pregnant bad design opinion place decorated funky welcoming way metal wood handblown glass light fixture expect seattle capital glass art industry definitely stay reason",
         "5",
         "5"
        ],
        [
         "6",
         "cozy stay rainy city husband spent night monaco early january business trip chance come ridewe booked monte carlo suite proved comfortable longish stay room located street building street noise problem view interesting room building look dank alley midsection large office building suite comfortable plenty room spread bathroom attractive squeaky clean small comparison generous proportion sitting sleeping area lot comfortable seating option good lighting plenty storage clothing luggage hotel staff friendly efficient housekeeping staff great job pleasant request responded quicklythe location quite good easy walk pike street market seattle art museum notch shopping dining optionsa positive experience",
         "6",
         "5"
        ],
        [
         "7",
         "excellent staff housekeeping quality hotel chocked staff make feel home experienced exceptional service desk staff concierge door men maid service need work maid failed tuck sheet foot bed instance soiled sheet used staff quickley resolved soiled sheet issue guess relates employee reflection rest staffwe received excellent advice concierge regarding resturants area happy hour wine tasting nice touch staff went way make feel homegreat location like close good food shopping took play th street theather wellpikes market pioneer square access mono rail short walking distance",
         "7",
         "4"
        ],
        [
         "8",
         "hotel stayed hotel monaco cruise room generous decorated uniquely hotel remodeled pacific bell building charm sturdiness everytime walked bell men felt like coming home secure great single traveler location fabulous walk thing pike market space needlelittle grocerydrug store block away today green bravo double bed room room bed couch separated curtain snoring mom slept curtain great food nearby",
         "8",
         "5"
        ],
        [
         "9",
         "excellent stayed hotel monaco past delight reception staff friendly professional room smart comfortable bed particularly liked reception small dog received staff guest spoke loved mild negative distance uphill ppmarket restaurant st overall great experience",
         "9",
         "5"
        ],
        [
         "10",
         "poor value stayed monaco seattle july nice hotel priced night hotel take beating quotient experience simply average nothing exceptional paying nt ca nt terribly disappointed wife stayed nicest suite night felt like overpaying best advice shop qualitywise league average marriott nice best western",
         "10",
         "2"
        ],
        [
         "11",
         "nice value seattle stayed night late looked comparable hilton marriott westin area pointsmiles nt gave monaco shot pleasantly surprised nice room service quick tasty bed especially comfortable unlike people nothing positive thing say service downside relatively small exercise room treadmill heck east coast time ran person day definitely stay",
         "11",
         "4"
        ],
        [
         "12",
         "nice hotel good location hotel kimpton design whimsical vibe fun staff young casual problem hotel busy stay friendly helpful group reserved room gave connecting room fuss busy weekthe room decent size huge pretty average city hotel bed nice bathroom clean bright pocket door ideal busy bathroom room design bright cheery flat panel tv location little noisy fine th floor location convenient walkable attraction new central library sam art museum benaroya concert hall pike place market parking steep night evening wine reception popular",
         "12",
         "4"
        ],
        [
         "13",
         "nice hotel nice staff hotel lovely staff quite rude bellhop desk clerk going way make thing difficult waited forever check heavy bag help getting throught double door room worst desk clerk checking tap tap tap car waited pick minute got home noticed dollar hold credit card took phonecalls fax week resolved stay warwck th lenora room okbut al friendly face tiring day airport",
         "13",
         "3"
        ],
        [
         "14",
         "great hotel night quick business trip loved little touch like goldfish leopard print robe complaint wifi complimentary internet access business center great location library service fabulous",
         "14",
         "4"
        ],
        [
         "15",
         "horrible customer service hotel stay february rd th friend picked hotel monaco appealing website online package included champagne late checkout free valet gift spa weekend friend checked room hour earlier came later pulled valet young man stood asked valet open said pull bag didn__ç_é_ offer help got garment bag suitcase came car key room number say valet car park car street pull left key working asked valet park car get went room fine bottle champagne oil lotion gift spa dressed went came got bed noticed blood drop pillow sheet pillow disgusted unbelievable called desk sent somebody minute later swapped sheet left apologizing sunday morning called desk speak management sheet aggravated rude apparently manager kind supervisor weekend wait monday morning young man spoke said cover food adding person changed sheet said fresh blood rude tone checkout pm package booked staff maid tried walk room opening door apologizing closing people called saying check remind package finally packed thing went downstairs check quickly signed paper took way took closer look room unfortunately covered food offered charged valet called desk ask charge lady answered snapped saying aware problem experienced monday like told earlier life treated like hotel sure hotel constantly problem lucky one stay recommend anybody know",
         "15",
         "1"
        ],
        [
         "16",
         "disappointed say anticipating stay hotel monaco based review seen tripadvisor definitely disppointment decor room hotel envisioned nice housekeeping staff impressive extremely polite cheery helpful desk bellman standard customer service lot little thing easily overlooked broken make mirror sagging post bathroom jiggly entrance handle room nt feel secure handle nearly falling door husband early morning flight midweek asked cab called suggested cab ride cost double private car flatrate nt case knew cost cab car bell staff insisted like taxi ride cab driver later explained bell staff kick referral preferred guest city andor hotel hotel staff looking best interest new year planned dining restaurant hotel new year day came dressed dinner told desk closed holiday asked nearby response good luck finding today good luck help feature needed hotel business centre work downstairs service completely semifuncitional internet service outsourced ended spending money nt work refund hour vacation time troubleshooting internet company toll free service line asked desk time assistance told worst experience time asked desk assistance got response included shrug say oh bad majority staff attitude simply care needed help dared intrude time got snotty response occasion caught desk girl smirking thought turned nt talk frustrating honesty nt wait check nice decor liked goldfish housekeeping staff great end hotel want dash door nt way concerned taking greet pretty ignored desk area unless approached time street westin saw nothing smiling face coming going hotel",
         "16",
         "2"
        ],
        [
         "17",
         "fantastic stay monaco seattle hotel monaco hold high standard kimpton hotel line stayed kimpton hotel city easily say seattle hotel monaco best seen service attentive prompt based member kimpton loyalty program upgraded th floor room great view th street excellent public library kittycorner hotel highly recommend tour public library blown away room quite spacious beautiful flatscreen television dvdcd player exercise room pretty standard kimpton size mean adequate outstanding eliptical cardio machine stationary bike personal viewing screen cardio machine screen accept dvd seen kimpton hotel hotel monaco line particular hotel lobby stylish quirky inviting easy imagine spending time relaxing comfortable overstuffed chair restaurant attached hotel sazerac good far eaten lunch look forward breakfast tomorrow kimpton property able connect free highspeed internet ethernet second cruising web checking email office problem opinion ca nt wrong kimpton hotel seattle hotel monaco certainly excellent choice",
         "17",
         "5"
        ],
        [
         "18",
         "good choice hotel recommended sister great location room nice comfortable bed quiet staff helpful recommendation restaurant pike market block walk stay",
         "18",
         "5"
        ],
        [
         "19",
         "hmmmmm say really high hope hotel monaco chose base girlfriend shopping trip seattle stay say given competition seattle okay hotel lot nice feature little thing detract bedding super soft luxurious comforter pillow mattress rock hard standard hotel bed kept awake night furnishing nice color pattern fun chair rip wall paper peeling stayed room noise like fog horn vibrated wall stay guess water pipe really annoyingon waking morning package decaf instead regular coffee took minute send coffee showed package coffee town usa little package tiny dried creamer supposed coffee service lobby saw cleared really early gone wine reception boy better time walk like look manager like trying scope nd glass food plate goldfish cracker classyfriday night restaurant bar closed pm private party planned eat heard fun bar bummer add restall hotel poster say thing like hotel comfort felt catered comfortable staff asked said looking visit",
         "19",
         "3"
        ],
        [
         "20",
         "service service service spent week gfriend labor day bumbershoot gray line airporter drop corner hotel person cab total make sure flat rate town car location central downtown street w it__ç_é_ quick walk point tourist business yes space needle bit far monorail westlake center easy walk away tourist underground tour public market space needle emp leave bit room luggage shopping great neighborhood safe clean room mediterranean suite quite large equipped twoperson jacuzzi tub small stand glassenclosed shower room view care room clean small throw blanket adorned foot bed took tastefully decorated wall striped trust wont feel like stale hotel ask gold fish bring wellbehaved dog companyservice aspect excellent desk house keeping concierge room service bell desk ready provide warm professional service test don__ç_é_ flinchgym open hour newer cardio machine dumbbell highest weight water towel tv gold__ç_é_ walking distancegastronomy sazerac worth try impressive it__ç_é_ amusingthis visit seattle monaco like bed westin better prefer monaco afford w gfriends visit want bumbershoot year stay hotel monaco",
         "20",
         "5"
        ],
        [
         "21",
         "excellent stay delightful surprise stay monaco thoroughly enjoyed stay room comfortable lovely amenity friendly staff especially enjoyed hour indulgence definitely come",
         "21",
         "5"
        ],
        [
         "22",
         "good value downtown hotel monaco seattle great option pricey area town room w street going close night hotel monaco unique interesting cozy bedlinens quality aveda product bathroom nice touchyou close downtown quick cab ride away nightlife restaurant loved lola experience quirky luxurious funi definitely stay",
         "22",
         "4"
        ],
        [
         "23",
         "hotel monaco great location service hotel monaco centrally located provides excellent service recently stayed originally checked slight problem informed booked queen bed expedia room king bed fortunately fellow guest checking time swapped room future reference booking expedia recommend double checking hotel ensure receive correct room staff stated better book hotel directly match online rate additionally concierge marco helpful sat night called salty make reservation brunch day informed seat available following day concierge called restaurant hour wanted dine able book table great window view hotel block away pike place market seattle art museum shopping district walking distance space needle experience music project attraction ammenities service provided hotel include pet goldfish wine tasting yoga mat use room seattle recommend taking helicopter tour mt st helen hoffstadt visitor center",
         "23",
         "5"
        ],
        [
         "24",
         "great location need internally upgrade advantage north end downtown seattle great restaurant nearby good price room need updated literally thought sleeping bed old pillow sheet net result bad night sleep stay location staff friendly",
         "24",
         "2"
        ],
        [
         "25",
         "nt mind noise place great read review noise used hotel website book room interesting site give checkbox option room farthest elevator room higher floor quiet room getting quietest room possible checked hoping got th floor floor hall elevator listened truck ambulance siren night sheeeesh aside heating unit sound like small plane engine hear surrounding roomsif noise sleep facility clean conveniently located reasonably priced staff quite helpful",
         "25",
         "3"
        ],
        [
         "26",
         "loved stayed warwick overnight getway enjoy christmas shopping warwick exceeded expectation staff wonderful extrememly friendly room clean service lounge wonderful came contact hotel friendly woman bathroom lever lounge well think haunted totally creepy vibe light anywho really enjoyed stay going couple day",
         "26",
         "4"
        ],
        [
         "27",
         "met expectation centrally located hotel block water popular nightlife shopping option belltown downtown classify property star location paid wedding rate sure fare value proposition room spacious little outdated room decent view lower floor drab panaroma parking lot building adequate fitness center sauna pool basement quaint barrestaurant attached hotel parking day outrage possibly standard downtown street parking weekend save dollar willing stay future price significantly lower nearby fourstar competition",
         "27",
         "3"
        ],
        [
         "28",
         "nice hotel husband stayed warwick year ago liked hotel location hesitate book tripwe asked received nonsmoking room king bed high floor hoping hotel nice view space needle checkin nice friendly key minute nice room small loveseat juliet balconylove location hotel block away best restaurant downtown dahlia lounge palace kitchen lola small grocery storeminimart right street wine easy walk pike place marketon site hotel nice restaurant lounge area ate breakfast hotel drink loungebar time good servicewe nt chance use look pool exercise room located basement pool small definitely useable exercise room variety machine weight newest market definitely decent machine kept neat clean exercise room plenty towel water cooler availablei think ran maid day leaving friendlywe used business center couple time consisted computer free internet printer needed ask key desk nice handyoverall thought staff helpful hotel quiet good location definitely met expectation stayed year ago definitely return hope soon",
         "28",
         "4"
        ],
        [
         "29",
         "good hotel large hotel newly decorated room good size clean excellent location block centre town block market areahotel resturant bustling place alot diner coming street good meal thereoverall highly recommend staying",
         "29",
         "4"
        ],
        [
         "30",
         "good choice seattle stayed night business booked company overall satisfactory arrived late evening room th floor clean comfortable great view bathroom little small clean equipped good night sleep enjoyed excellent breakfast restaurant checking staff encountered friendly polite",
         "30",
         "4"
        ],
        [
         "31",
         "great location expensive parking warwick heart seattle easy walking distance pike place monorail terminal downtown shop stayed twice recently start finish tour pacific north west staff helpful knowledgable room large comfy armchair large bedded room room fridge coffee makerparking site expensive guess reflects city centre parking price free zone travel seattle bus cheap free travel central seattle handy grocery store opposite",
         "31",
         "4"
        ],
        [
         "32",
         "noise airconditionera standard arranged stay travel agency unfortunately warwick seattle hotel dissapointment trip night stay warwick changed room starting minute stay hotel personnel didnt make feel like guest like intruder reluctant help solve complaint hotel right downtown minute really good restaurant like good thing availability room offered nd floor window directly opening car parking level changed room room loud sound coming air conditioner heating unbelievable hotel hotel personnel told standard noise room tried avoid using night order sleep possible watching tv loudly",
         "32",
         "1"
        ],
        [
         "33",
         "good location poor cleanliness warwick hotel great location seattle close shopping pike place seattle centre really let hotel cleanliness bed linen torn curtain torn floor stain hotel advertises balcony reality disappointment stayed hotel san diego balcony table chair warwick balcony inchesthe view room view space needle terrific nt make poor cleanliness check staff pleasant unpleasant decided sample restaurant ralph deli street great snack cafethere plenty better hotel seattle slightly money warwick choose eg hotel andra",
         "33",
         "2"
        ],
        [
         "34",
         "good place spending big buck warwick plenty comfortable nice nice view space needle room nt expect balcony inch ledge ironwork falling overboard open patio door partially step view lake union elliott bay morning space needle hidden cloud neat sunny weather cloudy needed warwick complaint",
         "34",
         "4"
        ],
        [
         "35",
         "nice hotel trip seattle wanted stay downtown good rate hotel decided stay warwick clean stayed th floor excellent view space needle downtown nice able open sliding door let cool air bed comfy pillow room clean parking problem use hotel parking staff friendly helpful ask key business center computer needless say hassle use computer acquire key restaurant good breakfast hotel walking distance major attraction like stated space needle pike market min away walking opted drive therewe pleased hotel stay",
         "35",
         "4"
        ],
        [
         "36",
         "great value seattle spouse stayed warwick seattle day september hotel disappoint reasonably priced stay downtown area easy walk sightseeing attraction block waterfront free bus seattle figure worked research room king bed spacious nicely appointed comfortable plenty pillow coffee room course great seattle bath finished marble deep tub handheld shower nice touch toiletry average huge consideration complaint concerned desk reservation trip leg olympic penninsula decided cancel second reservation arrived hotel day travel desk clerk kept waiting minute moved second desk clerk free told reservation attempt look walk stair parking garage confirmation luggage reservation following day office tried told nt staying parking day pretty steep option parking seattle scarce hotel nt shuttle option cab hotel restaurant adequate really great breakfast walk block mayflower park hotel pricey fabulous",
         "36",
         "4"
        ],
        [
         "37",
         "gem hotel absolute gem small great service room huge certainly adequate clean comfortable ask room high floor great view downtown space needlebest attentive staff concierge friendly helpful shuttle driver went way literally victoria ferry pick convenientwould recommend",
         "37",
         "5"
        ],
        [
         "38",
         "pretty good value visit seattle frequently day longer staying night worth especially hotel raised rate lately recommend ramada step away staying longer time perfect especially family fancier hotel town warwick satisfy family especially expensive suite swimming pool bit dark balcony acually big step window view location perfect small restaurant dont overpriced offer better food downtown",
         "38",
         "4"
        ],
        [
         "39",
         "average nice stay hotel amazing location great restaurant gourmet grocery cinerama block radius macy nordstroms shopping block mattress comfy amazing sweeping view space needle lake union downtown elliott bay great pool gym facility room service nothing write home nt pizza parking yikes old building nicely remodeled",
         "39",
         "4"
        ],
        [
         "40",
         "bad choice booked hotel hot wire called immediately requesting nonsmoking room king bed room away elevatoricethe person spoke pleasant stated guarantee request honored make note reservation checkin person desk rude said special request noted reservation card andstated king bed way reservation stuck double bed located directly accross elevator ice nonsmoking elevator parking garage hotel warwick mat garage filthy stairwell hotel face th smell urine carpet registration elevator area need cleaning upholstery curtain room needed cleaning andpressing sign bathroom water conservation tub facet dripped continuously tub drain needsattention shower curtain hole coffee maker room bedding fit bed sleeping directly mattress bedding askew staff unfriendly short housekeeping staff quite pleasant stay hotel",
         "40",
         "1"
        ],
        [
         "41",
         "good value hotel stayed warwick time past year spent night march room fine king bed tv pay view movie minifridge thing missing coffee maker nice marble bathroom hand held shower view east hotel space needle time viewed westin hotel tower price right got mile aadvantage card fly ointment overnight parking charge definately come location great",
         "41",
         "4"
        ],
        [
         "42",
         "warwick bad good review warwick shock staff quite rude room fairly dirty cut asked bandaid requested bottle opener better service",
         "42",
         "2"
        ],
        [
         "43",
         "great service warwick recently spent day christmas holiday warwick helpfulness care courtesy experienced desk restaurant room service housekeeping staff truly average greatly appreciated restaurant turned fabulous meal time certain operating skeleton staff thing prevents giving place excellent rating following hotel tired old dirty carpet bedding expect hostel given price range room face lift necessary",
         "43",
         "4"
        ],
        [
         "44",
         "austin power decor familiar hotel seattlewhere sheet different color hairbut okbecause clean second daythe bathroom friend cringeshe asked brought flip flop sanitizer spraythe dirty shag carpet nt stop wallit crawled inchesi star saw shining worse",
         "44",
         "2"
        ],
        [
         "45",
         "great location nt stay long needed place stay seattle prior catching early morning amtrak train portland looked train station dropping hertz car hilton downtown wanted place spend night called hotel seattle based location tourist map near hilton nt access internet research review stay location great virtually door high end hotel half price hilton thought try checked asked aaa discount clerk response time heard hotel desk clerk knowing aaa room used low budget movie version run hotel threadbare carpet dingy curtain quite hanging right minimal lighting strange hanging light middle room dingy bathroom definitely dingy appear obviously dirty ac luckily nt need bed particularly comfortable little boucy people definitely gravitated middle clock room wake requestedit ok spending night nt want spend positive great safe location quick taxi ride train station shower great invested low flow shower head water pressure really high really enjoyed conversation desk clerk morning mentioned clerk previous night heard aaa told clerk moron owner asked interview went say check review trip advisor listed worst hotel seattle got ta love type enthusiastic employee worked night friend day clerk mention nicer room definitely nt want nice one recommend ask room committing",
         "45",
         "2"
        ],
        [
         "46",
         "pay read review booked knew getting mind nt surprised fact better expected yes room outdated towel floormat limited cable tv overall lack amenity use hotel reviewer said like budget overseas hotel stayed similar condition enjoyed experience check desk service great asked extra pillow maid got spent flower pike street added character roomlocation friend stayed fairmont street stayed night night cost money went dinner trip victoria baseball game",
         "46",
         "3"
        ],
        [
         "47",
         "bad location unmatchable price range simple sleeping room expect pay x surprisingly cleaner hotel seen past week driving la staying travelodge day inn motel quality furnishing high sure little run spot old building usual character flaw none affected comfort lucky corner room especially nice look w know paying night bath worked nt care watch tv vacation idea worked want believe comment feel free mean room come",
         "47",
         "3"
        ],
        [
         "48",
         "remarkable hotel needed day booked inn based tripadvisor review great hotel staff professional accomodating town car service available airport immaculate room spacious bathroom great location great hotel price great hotel room facing inner coutyard problem noise room face st noisy location excellent downtown seattlewent attached restaurant bacco breakfast cafe champagne dinner excellent",
         "48",
         "5"
        ],
        [
         "49",
         "great location friendly staff stayed hotel easter throughly enjoyed time superably located exploring seattle especially market room good sizethe staff friendly helpful reception area welcomingour room exit stairwell night hear rumbling assume like air conditioning pipe",
         "49",
         "5"
        ]
       ],
       "shape": {
        "columns": 3,
        "rows": 20663
       }
      },
      "text/html": [
       "<div>\n",
       "<style scoped>\n",
       "    .dataframe tbody tr th:only-of-type {\n",
       "        vertical-align: middle;\n",
       "    }\n",
       "\n",
       "    .dataframe tbody tr th {\n",
       "        vertical-align: top;\n",
       "    }\n",
       "\n",
       "    .dataframe thead th {\n",
       "        text-align: right;\n",
       "    }\n",
       "</style>\n",
       "<table border=\"1\" class=\"dataframe\">\n",
       "  <thead>\n",
       "    <tr style=\"text-align: right;\">\n",
       "      <th></th>\n",
       "      <th>review_chunk</th>\n",
       "      <th>original_index</th>\n",
       "      <th>rating</th>\n",
       "    </tr>\n",
       "  </thead>\n",
       "  <tbody>\n",
       "    <tr>\n",
       "      <th>0</th>\n",
       "      <td>nice hotel expensive parking got good deal sta...</td>\n",
       "      <td>0</td>\n",
       "      <td>4</td>\n",
       "    </tr>\n",
       "    <tr>\n",
       "      <th>1</th>\n",
       "      <td>ok nothing special charge diamond member hilto...</td>\n",
       "      <td>1</td>\n",
       "      <td>2</td>\n",
       "    </tr>\n",
       "    <tr>\n",
       "      <th>2</th>\n",
       "      <td>nice room experience hotel monaco seattle good...</td>\n",
       "      <td>2</td>\n",
       "      <td>3</td>\n",
       "    </tr>\n",
       "    <tr>\n",
       "      <th>3</th>\n",
       "      <td>unique great stay wonderful time hotel monaco ...</td>\n",
       "      <td>3</td>\n",
       "      <td>5</td>\n",
       "    </tr>\n",
       "    <tr>\n",
       "      <th>4</th>\n",
       "      <td>great stay great stay went seahawk game awesom...</td>\n",
       "      <td>4</td>\n",
       "      <td>5</td>\n",
       "    </tr>\n",
       "    <tr>\n",
       "      <th>...</th>\n",
       "      <td>...</td>\n",
       "      <td>...</td>\n",
       "      <td>...</td>\n",
       "    </tr>\n",
       "    <tr>\n",
       "      <th>20658</th>\n",
       "      <td>great location price view hotel great quick pl...</td>\n",
       "      <td>20487</td>\n",
       "      <td>4</td>\n",
       "    </tr>\n",
       "    <tr>\n",
       "      <th>20659</th>\n",
       "      <td>ok look nice modern outside desk staff nt part...</td>\n",
       "      <td>20488</td>\n",
       "      <td>2</td>\n",
       "    </tr>\n",
       "    <tr>\n",
       "      <th>20660</th>\n",
       "      <td>NaN</td>\n",
       "      <td>20489</td>\n",
       "      <td>1</td>\n",
       "    </tr>\n",
       "    <tr>\n",
       "      <th>20661</th>\n",
       "      <td>hotel theft ruined vacation hotel opened sept ...</td>\n",
       "      <td>20489</td>\n",
       "      <td>1</td>\n",
       "    </tr>\n",
       "    <tr>\n",
       "      <th>20662</th>\n",
       "      <td>people talking ca nt believe excellent rating ...</td>\n",
       "      <td>20490</td>\n",
       "      <td>2</td>\n",
       "    </tr>\n",
       "  </tbody>\n",
       "</table>\n",
       "<p>20663 rows × 3 columns</p>\n",
       "</div>"
      ],
      "text/plain": [
       "                                            review_chunk  original_index  \\\n",
       "0      nice hotel expensive parking got good deal sta...               0   \n",
       "1      ok nothing special charge diamond member hilto...               1   \n",
       "2      nice room experience hotel monaco seattle good...               2   \n",
       "3      unique great stay wonderful time hotel monaco ...               3   \n",
       "4      great stay great stay went seahawk game awesom...               4   \n",
       "...                                                  ...             ...   \n",
       "20658  great location price view hotel great quick pl...           20487   \n",
       "20659  ok look nice modern outside desk staff nt part...           20488   \n",
       "20660                                                NaN           20489   \n",
       "20661  hotel theft ruined vacation hotel opened sept ...           20489   \n",
       "20662  people talking ca nt believe excellent rating ...           20490   \n",
       "\n",
       "       rating  \n",
       "0           4  \n",
       "1           2  \n",
       "2           3  \n",
       "3           5  \n",
       "4           5  \n",
       "...       ...  \n",
       "20658       4  \n",
       "20659       2  \n",
       "20660       1  \n",
       "20661       1  \n",
       "20662       2  \n",
       "\n",
       "[20663 rows x 3 columns]"
      ]
     },
     "execution_count": 13,
     "metadata": {},
     "output_type": "execute_result"
    }
   ],
   "source": [
    "data = pd.read_csv(\"../data/processed_chunks.csv\")\n",
    "data "
   ]
  },
  {
   "cell_type": "code",
   "execution_count": 14,
   "id": "72a152ed",
   "metadata": {},
   "outputs": [
    {
     "data": {
      "text/plain": [
       "review_chunk      172\n",
       "original_index      0\n",
       "rating              0\n",
       "dtype: int64"
      ]
     },
     "execution_count": 14,
     "metadata": {},
     "output_type": "execute_result"
    }
   ],
   "source": [
    "data.isna().sum()"
   ]
  },
  {
   "cell_type": "code",
   "execution_count": 16,
   "id": "fb0d5fa2",
   "metadata": {},
   "outputs": [
    {
     "data": {
      "text/plain": [
       "review_chunk      0\n",
       "original_index    0\n",
       "rating            0\n",
       "dtype: int64"
      ]
     },
     "execution_count": 16,
     "metadata": {},
     "output_type": "execute_result"
    }
   ],
   "source": [
    "data.dropna(inplace = True)\n",
    "data.isna().sum()"
   ]
  },
  {
   "cell_type": "code",
   "execution_count": 18,
   "id": "27217d24",
   "metadata": {},
   "outputs": [
    {
     "name": "stdout",
     "output_type": "stream",
     "text": [
      "<class 'pandas.core.frame.DataFrame'>\n",
      "Index: 20491 entries, 0 to 20662\n",
      "Data columns (total 3 columns):\n",
      " #   Column          Non-Null Count  Dtype \n",
      "---  ------          --------------  ----- \n",
      " 0   review_chunk    20491 non-null  object\n",
      " 1   original_index  20491 non-null  int64 \n",
      " 2   rating          20491 non-null  int64 \n",
      "dtypes: int64(2), object(1)\n",
      "memory usage: 640.3+ KB\n"
     ]
    }
   ],
   "source": [
    "data.info()"
   ]
  },
  {
   "cell_type": "code",
   "execution_count": 17,
   "id": "56e00198",
   "metadata": {},
   "outputs": [],
   "source": [
    "data.to_csv('../data/processed_chunks.csv', index=False)"
   ]
  }
 ],
 "metadata": {
  "kernelspec": {
   "display_name": ".venv",
   "language": "python",
   "name": "python3"
  },
  "language_info": {
   "codemirror_mode": {
    "name": "ipython",
    "version": 3
   },
   "file_extension": ".py",
   "mimetype": "text/x-python",
   "name": "python",
   "nbconvert_exporter": "python",
   "pygments_lexer": "ipython3",
   "version": "3.11.9"
  }
 },
 "nbformat": 4,
 "nbformat_minor": 5
}
