{
 "cells": [
  {
   "cell_type": "code",
   "execution_count": 4,
   "id": "1f58ebcf",
   "metadata": {},
   "outputs": [
    {
     "name": "stderr",
     "output_type": "stream",
     "text": [
      "Batches: 100%|██████████| 641/641 [05:28<00:00,  1.95it/s]\n"
     ]
    }
   ],
   "source": [
    "import pandas as pd\n",
    "from sentence_transformers import SentenceTransformer\n",
    "from tqdm import tqdm\n",
    "\n",
    "df = pd.read_csv(\"../data/processed_chunks.csv\")\n",
    "model = SentenceTransformer('all-MiniLM-L6-v2')\n",
    "\n",
    "embeddings = model.encode(df['review_chunk'].tolist(), show_progress_bar=True)\n"
   ]
  },
  {
   "cell_type": "code",
   "execution_count": 5,
   "id": "45562e97",
   "metadata": {},
   "outputs": [
    {
     "name": "stdout",
     "output_type": "stream",
     "text": [
      "Connected to Qdrant!\n"
     ]
    }
   ],
   "source": [
    "from qdrant_client import QdrantClient\n",
    "\n",
    "client = QdrantClient(host=\"localhost\", port=6333)\n",
    "\n",
    "print(\"Connected to Qdrant!\")"
   ]
  },
  {
   "cell_type": "code",
   "execution_count": 6,
   "id": "c83e5110",
   "metadata": {},
   "outputs": [
    {
     "name": "stderr",
     "output_type": "stream",
     "text": [
      "C:\\Users\\Lenovo\\AppData\\Local\\Temp\\ipykernel_16676\\999103623.py:8: DeprecationWarning: `recreate_collection` method is deprecated and will be removed in the future. Use `collection_exists` to check collection existence and `create_collection` instead.\n",
      "  client.recreate_collection(\n"
     ]
    },
    {
     "data": {
      "text/plain": [
       "True"
      ]
     },
     "execution_count": 6,
     "metadata": {},
     "output_type": "execute_result"
    }
   ],
   "source": [
    "from qdrant_client import QdrantClient\n",
    "from qdrant_client.models import Distance, VectorParams, PointStruct\n",
    "\n",
    "client = QdrantClient(host=\"localhost\", port=6333, timeout=60.0)  \n",
    "\n",
    "collection_name = \"hotel_reviews\"\n",
    "\n",
    "client.recreate_collection(\n",
    "    collection_name=collection_name,\n",
    "    vectors_config=VectorParams(size=len(embeddings[0]), distance=Distance.COSINE)\n",
    ")\n"
   ]
  },
  {
   "cell_type": "code",
   "execution_count": 7,
   "id": "884090b9",
   "metadata": {},
   "outputs": [
    {
     "name": "stdout",
     "output_type": "stream",
     "text": [
      "Uploaded batch 0 to 500\n",
      "Uploaded batch 500 to 1000\n",
      "Uploaded batch 1000 to 1500\n",
      "Uploaded batch 1500 to 2000\n",
      "Uploaded batch 2000 to 2500\n",
      "Uploaded batch 2500 to 3000\n",
      "Uploaded batch 3000 to 3500\n",
      "Uploaded batch 3500 to 4000\n",
      "Uploaded batch 4000 to 4500\n",
      "Uploaded batch 4500 to 5000\n",
      "Uploaded batch 5000 to 5500\n",
      "Uploaded batch 5500 to 6000\n",
      "Uploaded batch 6000 to 6500\n",
      "Uploaded batch 6500 to 7000\n",
      "Uploaded batch 7000 to 7500\n",
      "Uploaded batch 7500 to 8000\n",
      "Uploaded batch 8000 to 8500\n",
      "Uploaded batch 8500 to 9000\n",
      "Uploaded batch 9000 to 9500\n",
      "Uploaded batch 9500 to 10000\n",
      "Uploaded batch 10000 to 10500\n",
      "Uploaded batch 10500 to 11000\n",
      "Uploaded batch 11000 to 11500\n",
      "Uploaded batch 11500 to 12000\n",
      "Uploaded batch 12000 to 12500\n",
      "Uploaded batch 12500 to 13000\n",
      "Uploaded batch 13000 to 13500\n",
      "Uploaded batch 13500 to 14000\n",
      "Uploaded batch 14000 to 14500\n",
      "Uploaded batch 14500 to 15000\n",
      "Uploaded batch 15000 to 15500\n",
      "Uploaded batch 15500 to 16000\n",
      "Uploaded batch 16000 to 16500\n",
      "Uploaded batch 16500 to 17000\n",
      "Uploaded batch 17000 to 17500\n",
      "Uploaded batch 17500 to 18000\n",
      "Uploaded batch 18000 to 18500\n",
      "Uploaded batch 18500 to 19000\n",
      "Uploaded batch 19000 to 19500\n",
      "Uploaded batch 19500 to 20000\n",
      "Uploaded batch 20000 to 20491\n"
     ]
    }
   ],
   "source": [
    "points = []\n",
    "\n",
    "for idx, (embedding, row) in enumerate(zip(embeddings, df.itertuples())):\n",
    "    points.append(PointStruct(\n",
    "        id=idx,\n",
    "        vector=embedding,\n",
    "        payload={\n",
    "            \"original_index\": int(row.original_index),\n",
    "            \"rating\": int(row.rating),\n",
    "            \"text\": row.review_chunk\n",
    "        }\n",
    "    ))\n",
    "\n",
    "\"\"\"\n",
    "UnexpectedResponse: Unexpected Response: 400 (Bad Request)\n",
    "Raw response content:\n",
    "b'{\"status\":{\"error\":\"Payload error: JSON payload (180458192 bytes) is larger than allowed (limit: 33554432 bytes).\"},\"time\":0.0}'\n",
    "\"\"\"\n",
    "\n",
    "batch_size = 500\n",
    "\n",
    "for i in range(0, len(points), batch_size):\n",
    "    batch = points[i:i+batch_size]\n",
    "    client.upsert(collection_name=collection_name, points=batch)\n",
    "    print(f\"Uploaded batch {i} to {i + len(batch)}\")\n",
    "\n"
   ]
  },
  {
   "cell_type": "code",
   "execution_count": 8,
   "id": "198a9ce4",
   "metadata": {},
   "outputs": [
    {
     "name": "stdout",
     "output_type": "stream",
     "text": [
      "Score: 0.69\n",
      "fantastic hotel fantastic hotel staff helpful friendlyrooms quite dark nice decoration bathroom fantasticthere free wifi room ethernet wired connection room reception happy land cable free course location excellent close major metro station starbucks minute walkwe stayed night loved minute highly recommended\n",
      "--------------------------------------------------\n",
      "Score: 0.68\n",
      "great location pleasantly surprised hotel ideal downtown despite review felt safe areawe use valet parking option nightrooms basic finebreakfast included aaa rate great everyday served sort cafe lobby\n",
      "--------------------------------------------------\n",
      "Score: 0.66\n",
      "good location value money great location great value price paid good customer service lacking thing free wireless access room wireless accessible hotel lobby convenient heating control flexible sleep window open hot night overall good hotel short stay\n",
      "--------------------------------------------------\n",
      "Score: 0.65\n",
      "spectacular service reception roommate hotel stayed exceptionally friendly helpful room modern clean comfortable free wifi breakfast included breakfast spectacular highly recommended\n",
      "--------------------------------------------------\n",
      "Score: 0.65\n",
      "amazing hotel hotel amazingprimary purpose trip businessthe location excellent block white housethe room modern clean really nice travelling work away home stay feel bright modern cleanthe bed amazingly comfortable great night sleepthe restaurant breakfast excellent best breakfast bit expensive breakfast swing try especially included rate internet access nt necessarily included rate wired internet access included wireless night reliable choice choose tmobile hotspot wireless available day thinki stay question fact chance stay sofitel city try\n",
      "--------------------------------------------------\n"
     ]
    }
   ],
   "source": [
    "from qdrant_client import QdrantClient\n",
    "from sentence_transformers import SentenceTransformer\n",
    "\n",
    "# Load the embedding model\n",
    "model = SentenceTransformer('all-MiniLM-L6-v2')\n",
    "\n",
    "# Initialize Qdrant client\n",
    "client = QdrantClient(host=\"localhost\", port=6333, timeout=60.0)\n",
    "\n",
    "# Define collection name\n",
    "collection_name = \"hotel_reviews\"\n",
    "\n",
    "# Query example\n",
    "query = \"best hotel near downtown with free wifi\"\n",
    "query_vec = model.encode(query)\n",
    "\n",
    "# Search using query_points instead of deprecated search\n",
    "results = client.query_points(\n",
    "    collection_name=collection_name,\n",
    "    query=query_vec,\n",
    "    limit=5\n",
    ")\n",
    "\n",
    "# Print results\n",
    "for res in results.points:\n",
    "    print(f\"Score: {res.score:.2f}\")\n",
    "    print(res.payload['text'])\n",
    "    print('-' * 50)"
   ]
  },
  {
   "cell_type": "code",
   "execution_count": null,
   "id": "3f52ee53",
   "metadata": {},
   "outputs": [],
   "source": [
    "# from crewai import Agent\n",
    "# from qdrant_client import QdrantClient\n",
    "# from sentence_transformers import SentenceTransformer\n",
    "# import openai\n",
    "\n",
    "# openai.api_key = \"your_openai_api_key\"\n",
    "\n",
    "# class RetrieverAgent(Agent):\n",
    "#     def __init__(self, model: SentenceTransformer, client: QdrantClient, collection_name: str):\n",
    "#         super().__init__(\n",
    "#             role=\"Retriever Agent\",\n",
    "#             goal=\"Search the knowledge base for relevant travel information\",\n",
    "#             backstory=\"This agent is responsible for retrieving relevant hotel or travel reviews from the vector database.\"\n",
    "#         )\n",
    "#         self.model = model\n",
    "#         self.client = client\n",
    "#         self.collection_name = collection_name\n",
    "\n",
    "#     def run(self, query: str):\n",
    "#         query_vec = self.model.encode(query)\n",
    "#         results = self.client.query_points(\n",
    "#             collection_name=self.collection_name,\n",
    "#             query=query_vec,\n",
    "#             limit=5\n",
    "#         )\n",
    "#         texts = [res.payload['text'] for res in results.points]\n",
    "#         return texts\n",
    "\n",
    "# class SummarizerAgent(Agent):\n",
    "#     def __init__(self):\n",
    "#         super().__init__(\n",
    "#             role=\"Summarizer Agent\",\n",
    "#             goal=\"Summarize retrieved travel data and remove redundant information\",\n",
    "#             backstory=\"This agent combines and summarizes the retrieved content to prepare it for the final response.\"\n",
    "#         )\n",
    "\n",
    "#     def run(self, texts: list[str]):\n",
    "#         combined_text = \" \".join(texts)\n",
    "#         prompt = f\"\"\"\n",
    "#         You are a travel assistant. Summarize the following hotel reviews into a concise summary (max 200 words), removing redundant information and focusing on key points like location, amenities, and service quality:\n",
    "#         {combined_text[:2000]}  # Limit input to avoid token overflow\n",
    "#         \"\"\"\n",
    "#         response = openai.chat.completions.create(\n",
    "#             model=\"gpt-3.5-turbo\",\n",
    "#             messages=[\n",
    "#                 {\"role\": \"system\", \"content\": \"You are a helpful travel assistant.\"},\n",
    "#                 {\"role\": \"user\", \"content\": prompt}\n",
    "#             ],\n",
    "#             temperature=0.5\n",
    "#         )\n",
    "#         return response.choices[0].message.content\n",
    "\n",
    "# class ComposerAgent(Agent):\n",
    "#     def __init__(self):\n",
    "#         super().__init__(\n",
    "#             role=\"Composer Agent\",\n",
    "#             goal=\"Generate user-facing responses using LLMs\",\n",
    "#             backstory=\"This agent crafts the final travel recommendation using GPT based on the summarized input.\"\n",
    "#         )\n",
    "\n",
    "#     def run(self, summary: str):\n",
    "#         prompt = f\"\"\"\n",
    "#         You are a helpful travel assistant.\n",
    "\n",
    "#         Here is a summary of reviews:\n",
    "#         {summary}\n",
    "\n",
    "#         Please write a hotel recommendation or short itinerary in a friendly, concise tone.\n",
    "#         \"\"\"\n",
    "#         response = openai.chat.completions.create(\n",
    "#             model=\"gpt-3.5-turbo\",\n",
    "#             messages=[\n",
    "#                 {\"role\": \"system\", \"content\": \"You are a helpful travel assistant.\"},\n",
    "#                 {\"role\": \"user\", \"content\": prompt}\n",
    "#             ],\n",
    "#             temperature=0.7\n",
    "#         )\n",
    "#         return response.choices[0].message.content"
   ]
  },
  {
   "cell_type": "code",
   "execution_count": 29,
   "id": "7237d5fa",
   "metadata": {},
   "outputs": [],
   "source": [
    "# from qdrant_client import QdrantClient\n",
    "# from sentence_transformers import SentenceTransformer\n",
    "# from crewai_agents import RetrieverAgent, SummarizerAgent, ComposerAgent\n",
    "\n",
    "# # Initialize dependencies\n",
    "# model = SentenceTransformer('all-MiniLM-L6-v2')\n",
    "# client = QdrantClient(host=\"localhost\", port=6333, timeout=60.0)\n",
    "# collection_name = \"hotel_reviews\"\n",
    "\n",
    "# # Create agent instances\n",
    "# retriever = RetrieverAgent(model=model, client=client, collection_name=collection_name)\n",
    "# summarizer = SummarizerAgent()\n",
    "# composer = ComposerAgent()\n",
    "\n",
    "# def agentic_pipeline(user_query: str):\n",
    "#     retrieved_texts = retriever.run(user_query)\n",
    "#     summary = summarizer.run(retrieved_texts)\n",
    "#     final_response = composer.run(summary)\n",
    "#     return final_response\n",
    "\n",
    "# # Test the pipeline\n",
    "# if __name__ == \"__main__\":\n",
    "#     query = \"best hotel near downtown with free wifi\"\n",
    "#     response = agentic_pipeline(query)\n",
    "#     print(response)"
   ]
  },
  {
   "cell_type": "code",
   "execution_count": null,
   "id": "ebdd8cd0",
   "metadata": {},
   "outputs": [],
   "source": [
    "# from sentence_transformers import SentenceTransformer\n",
    "# from pydantic import BaseModel\n",
    "\n",
    "# model = SentenceTransformer('all-MiniLM-L6-v2') \n",
    "\n",
    "# class RetrieverAgent(BaseModel):\n",
    "#     role: str = \"Retriever\"\n",
    "#     goal: str = \"Retrieve relevant hotel reviews\"\n",
    "#     backstory: str = \"Searches hotel review database\"\n",
    "\n",
    "#     def run(self, query: str):\n",
    "#         query_vec = model.encode(query) \n",
    "#         results = client.search(\n",
    "#             collection_name=collection_name,\n",
    "#             query_vector=query_vec,\n",
    "#             limit=5\n",
    "#         )\n",
    "#         texts = [res.payload['text'] for res in results]\n",
    "#         return \"\\n\".join(texts)"
   ]
  }
 ],
 "metadata": {
  "kernelspec": {
   "display_name": ".venv",
   "language": "python",
   "name": "python3"
  },
  "language_info": {
   "codemirror_mode": {
    "name": "ipython",
    "version": 3
   },
   "file_extension": ".py",
   "mimetype": "text/x-python",
   "name": "python",
   "nbconvert_exporter": "python",
   "pygments_lexer": "ipython3",
   "version": "3.11.9"
  }
 },
 "nbformat": 4,
 "nbformat_minor": 5
}
